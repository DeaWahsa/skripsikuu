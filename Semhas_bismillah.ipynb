{
  "cells": [
    {
      "cell_type": "markdown",
      "metadata": {
        "id": "view-in-github",
        "colab_type": "text"
      },
      "source": [
        "<a href=\"https://colab.research.google.com/github/DeaWahsa/skripsikuu/blob/main/Semhas_bismillah.ipynb\" target=\"_parent\"><img src=\"https://colab.research.google.com/assets/colab-badge.svg\" alt=\"Open In Colab\"/></a>"
      ]
    },
    {
      "cell_type": "markdown",
      "metadata": {
        "id": "ZnGcbCmVhe4_"
      },
      "source": [
        "**LOAD DAN PREPROCESSING DATA**"
      ]
    },
    {
      "cell_type": "code",
      "execution_count": 219,
      "metadata": {
        "id": "b77xf9hZ6MOU"
      },
      "outputs": [],
      "source": [
        "import pandas as pd\n",
        "import numpy as np\n",
        "import matplotlib.pyplot as plt"
      ]
    },
    {
      "cell_type": "code",
      "execution_count": 220,
      "metadata": {
        "id": "iemXOoKa6Ug8"
      },
      "outputs": [],
      "source": [
        "# Mengganti path dengan direktori yang sesuai\n",
        "path = '/content/drive/My Drive/Colab Notebooks/'\n",
        "\n",
        "data_mitra = pd.read_csv(path + 'data_mitra(2).csv', encoding=\"ISO-8859-1\")"
      ]
    },
    {
      "cell_type": "code",
      "execution_count": 221,
      "metadata": {
        "colab": {
          "base_uri": "https://localhost:8080/",
          "height": 513
        },
        "id": "4Oumyi996g9o",
        "outputId": "2bcc8c94-2b65-47f5-93ab-996beb65da00"
      },
      "outputs": [
        {
          "output_type": "execute_result",
          "data": {
            "text/plain": [
              "      Jumlah Projek  Local Amount  nilai projek per LoP  Jumlah Projek.1  \\\n",
              "0                 8       3582546              28660368                8   \n",
              "1                 8      16057014             128456112                8   \n",
              "2                 8       1955579              15644632                8   \n",
              "3                 8      24203409             193627272                8   \n",
              "4                 8       7735037              61880296                8   \n",
              "...             ...           ...                   ...              ...   \n",
              "6917             16       2165478              34647648               16   \n",
              "6918             16       2165478              34647648               16   \n",
              "6919             16       2165478              34647648               16   \n",
              "6920             16       2103255              33652080               16   \n",
              "6921             16       2165478              34647648               16   \n",
              "\n",
              "      Duration (Days)  Masalaku  kontrak harga satuan kurang memenuhi  \\\n",
              "0                  59        74                                     1   \n",
              "1                  59        74                                     1   \n",
              "2                  59        74                                     1   \n",
              "3                  59        74                                     1   \n",
              "4                  59        74                                     1   \n",
              "...               ...       ...                                   ...   \n",
              "6917               29         2                                     1   \n",
              "6918               29         2                                     1   \n",
              "6919               29         2                                     0   \n",
              "6920               29         2                                     0   \n",
              "6921               29         2                                     0   \n",
              "\n",
              "      kontrak harga satuan memenuhi  kontrak harga satuan tidak memenuhi  \\\n",
              "0                                 0                                    0   \n",
              "1                                 0                                    0   \n",
              "2                                 0                                    0   \n",
              "3                                 0                                    0   \n",
              "4                                 0                                    0   \n",
              "...                             ...                                  ...   \n",
              "6917                              0                                    0   \n",
              "6918                              0                                    0   \n",
              "6919                              1                                    0   \n",
              "6920                              1                                    0   \n",
              "6921                              1                                    0   \n",
              "\n",
              "      alker lengkap  alker tidak lengkap  stok material tersedia  \\\n",
              "0                 1                    0                       1   \n",
              "1                 1                    0                       1   \n",
              "2                 1                    0                       1   \n",
              "3                 1                    0                       1   \n",
              "4                 1                    0                       1   \n",
              "...             ...                  ...                     ...   \n",
              "6917              1                    0                       1   \n",
              "6918              1                    0                       1   \n",
              "6919              1                    0                       1   \n",
              "6920              1                    0                       1   \n",
              "6921              1                    0                       1   \n",
              "\n",
              "      stok material tidak tersedia  team lengkap  team tidak lengkap  rapih  \\\n",
              "0                                0             1                   0      1   \n",
              "1                                0             1                   0      1   \n",
              "2                                0             1                   0      1   \n",
              "3                                0             1                   0      1   \n",
              "4                                0             1                   0      1   \n",
              "...                            ...           ...                 ...    ...   \n",
              "6917                             0             1                   0      1   \n",
              "6918                             0             1                   0      1   \n",
              "6919                             0             1                   0      0   \n",
              "6920                             0             1                   0      0   \n",
              "6921                             0             1                   0      0   \n",
              "\n",
              "      tidak rapih  Label  \n",
              "0               0      3  \n",
              "1               0      3  \n",
              "2               0      3  \n",
              "3               0      3  \n",
              "4               0      3  \n",
              "...           ...    ...  \n",
              "6917            0      1  \n",
              "6918            0      1  \n",
              "6919            1      1  \n",
              "6920            1      1  \n",
              "6921            1      1  \n",
              "\n",
              "[6922 rows x 18 columns]"
            ],
            "text/html": [
              "\n",
              "  <div id=\"df-de127cf6-a573-48ff-ab9f-f23c0249dea5\" class=\"colab-df-container\">\n",
              "    <div>\n",
              "<style scoped>\n",
              "    .dataframe tbody tr th:only-of-type {\n",
              "        vertical-align: middle;\n",
              "    }\n",
              "\n",
              "    .dataframe tbody tr th {\n",
              "        vertical-align: top;\n",
              "    }\n",
              "\n",
              "    .dataframe thead th {\n",
              "        text-align: right;\n",
              "    }\n",
              "</style>\n",
              "<table border=\"1\" class=\"dataframe\">\n",
              "  <thead>\n",
              "    <tr style=\"text-align: right;\">\n",
              "      <th></th>\n",
              "      <th>Jumlah Projek</th>\n",
              "      <th>Local Amount</th>\n",
              "      <th>nilai projek per LoP</th>\n",
              "      <th>Jumlah Projek.1</th>\n",
              "      <th>Duration (Days)</th>\n",
              "      <th>Masalaku</th>\n",
              "      <th>kontrak harga satuan kurang memenuhi</th>\n",
              "      <th>kontrak harga satuan memenuhi</th>\n",
              "      <th>kontrak harga satuan tidak memenuhi</th>\n",
              "      <th>alker lengkap</th>\n",
              "      <th>alker tidak lengkap</th>\n",
              "      <th>stok material tersedia</th>\n",
              "      <th>stok material tidak tersedia</th>\n",
              "      <th>team lengkap</th>\n",
              "      <th>team tidak lengkap</th>\n",
              "      <th>rapih</th>\n",
              "      <th>tidak rapih</th>\n",
              "      <th>Label</th>\n",
              "    </tr>\n",
              "  </thead>\n",
              "  <tbody>\n",
              "    <tr>\n",
              "      <th>0</th>\n",
              "      <td>8</td>\n",
              "      <td>3582546</td>\n",
              "      <td>28660368</td>\n",
              "      <td>8</td>\n",
              "      <td>59</td>\n",
              "      <td>74</td>\n",
              "      <td>1</td>\n",
              "      <td>0</td>\n",
              "      <td>0</td>\n",
              "      <td>1</td>\n",
              "      <td>0</td>\n",
              "      <td>1</td>\n",
              "      <td>0</td>\n",
              "      <td>1</td>\n",
              "      <td>0</td>\n",
              "      <td>1</td>\n",
              "      <td>0</td>\n",
              "      <td>3</td>\n",
              "    </tr>\n",
              "    <tr>\n",
              "      <th>1</th>\n",
              "      <td>8</td>\n",
              "      <td>16057014</td>\n",
              "      <td>128456112</td>\n",
              "      <td>8</td>\n",
              "      <td>59</td>\n",
              "      <td>74</td>\n",
              "      <td>1</td>\n",
              "      <td>0</td>\n",
              "      <td>0</td>\n",
              "      <td>1</td>\n",
              "      <td>0</td>\n",
              "      <td>1</td>\n",
              "      <td>0</td>\n",
              "      <td>1</td>\n",
              "      <td>0</td>\n",
              "      <td>1</td>\n",
              "      <td>0</td>\n",
              "      <td>3</td>\n",
              "    </tr>\n",
              "    <tr>\n",
              "      <th>2</th>\n",
              "      <td>8</td>\n",
              "      <td>1955579</td>\n",
              "      <td>15644632</td>\n",
              "      <td>8</td>\n",
              "      <td>59</td>\n",
              "      <td>74</td>\n",
              "      <td>1</td>\n",
              "      <td>0</td>\n",
              "      <td>0</td>\n",
              "      <td>1</td>\n",
              "      <td>0</td>\n",
              "      <td>1</td>\n",
              "      <td>0</td>\n",
              "      <td>1</td>\n",
              "      <td>0</td>\n",
              "      <td>1</td>\n",
              "      <td>0</td>\n",
              "      <td>3</td>\n",
              "    </tr>\n",
              "    <tr>\n",
              "      <th>3</th>\n",
              "      <td>8</td>\n",
              "      <td>24203409</td>\n",
              "      <td>193627272</td>\n",
              "      <td>8</td>\n",
              "      <td>59</td>\n",
              "      <td>74</td>\n",
              "      <td>1</td>\n",
              "      <td>0</td>\n",
              "      <td>0</td>\n",
              "      <td>1</td>\n",
              "      <td>0</td>\n",
              "      <td>1</td>\n",
              "      <td>0</td>\n",
              "      <td>1</td>\n",
              "      <td>0</td>\n",
              "      <td>1</td>\n",
              "      <td>0</td>\n",
              "      <td>3</td>\n",
              "    </tr>\n",
              "    <tr>\n",
              "      <th>4</th>\n",
              "      <td>8</td>\n",
              "      <td>7735037</td>\n",
              "      <td>61880296</td>\n",
              "      <td>8</td>\n",
              "      <td>59</td>\n",
              "      <td>74</td>\n",
              "      <td>1</td>\n",
              "      <td>0</td>\n",
              "      <td>0</td>\n",
              "      <td>1</td>\n",
              "      <td>0</td>\n",
              "      <td>1</td>\n",
              "      <td>0</td>\n",
              "      <td>1</td>\n",
              "      <td>0</td>\n",
              "      <td>1</td>\n",
              "      <td>0</td>\n",
              "      <td>3</td>\n",
              "    </tr>\n",
              "    <tr>\n",
              "      <th>...</th>\n",
              "      <td>...</td>\n",
              "      <td>...</td>\n",
              "      <td>...</td>\n",
              "      <td>...</td>\n",
              "      <td>...</td>\n",
              "      <td>...</td>\n",
              "      <td>...</td>\n",
              "      <td>...</td>\n",
              "      <td>...</td>\n",
              "      <td>...</td>\n",
              "      <td>...</td>\n",
              "      <td>...</td>\n",
              "      <td>...</td>\n",
              "      <td>...</td>\n",
              "      <td>...</td>\n",
              "      <td>...</td>\n",
              "      <td>...</td>\n",
              "      <td>...</td>\n",
              "    </tr>\n",
              "    <tr>\n",
              "      <th>6917</th>\n",
              "      <td>16</td>\n",
              "      <td>2165478</td>\n",
              "      <td>34647648</td>\n",
              "      <td>16</td>\n",
              "      <td>29</td>\n",
              "      <td>2</td>\n",
              "      <td>1</td>\n",
              "      <td>0</td>\n",
              "      <td>0</td>\n",
              "      <td>1</td>\n",
              "      <td>0</td>\n",
              "      <td>1</td>\n",
              "      <td>0</td>\n",
              "      <td>1</td>\n",
              "      <td>0</td>\n",
              "      <td>1</td>\n",
              "      <td>0</td>\n",
              "      <td>1</td>\n",
              "    </tr>\n",
              "    <tr>\n",
              "      <th>6918</th>\n",
              "      <td>16</td>\n",
              "      <td>2165478</td>\n",
              "      <td>34647648</td>\n",
              "      <td>16</td>\n",
              "      <td>29</td>\n",
              "      <td>2</td>\n",
              "      <td>1</td>\n",
              "      <td>0</td>\n",
              "      <td>0</td>\n",
              "      <td>1</td>\n",
              "      <td>0</td>\n",
              "      <td>1</td>\n",
              "      <td>0</td>\n",
              "      <td>1</td>\n",
              "      <td>0</td>\n",
              "      <td>1</td>\n",
              "      <td>0</td>\n",
              "      <td>1</td>\n",
              "    </tr>\n",
              "    <tr>\n",
              "      <th>6919</th>\n",
              "      <td>16</td>\n",
              "      <td>2165478</td>\n",
              "      <td>34647648</td>\n",
              "      <td>16</td>\n",
              "      <td>29</td>\n",
              "      <td>2</td>\n",
              "      <td>0</td>\n",
              "      <td>1</td>\n",
              "      <td>0</td>\n",
              "      <td>1</td>\n",
              "      <td>0</td>\n",
              "      <td>1</td>\n",
              "      <td>0</td>\n",
              "      <td>1</td>\n",
              "      <td>0</td>\n",
              "      <td>0</td>\n",
              "      <td>1</td>\n",
              "      <td>1</td>\n",
              "    </tr>\n",
              "    <tr>\n",
              "      <th>6920</th>\n",
              "      <td>16</td>\n",
              "      <td>2103255</td>\n",
              "      <td>33652080</td>\n",
              "      <td>16</td>\n",
              "      <td>29</td>\n",
              "      <td>2</td>\n",
              "      <td>0</td>\n",
              "      <td>1</td>\n",
              "      <td>0</td>\n",
              "      <td>1</td>\n",
              "      <td>0</td>\n",
              "      <td>1</td>\n",
              "      <td>0</td>\n",
              "      <td>1</td>\n",
              "      <td>0</td>\n",
              "      <td>0</td>\n",
              "      <td>1</td>\n",
              "      <td>1</td>\n",
              "    </tr>\n",
              "    <tr>\n",
              "      <th>6921</th>\n",
              "      <td>16</td>\n",
              "      <td>2165478</td>\n",
              "      <td>34647648</td>\n",
              "      <td>16</td>\n",
              "      <td>29</td>\n",
              "      <td>2</td>\n",
              "      <td>0</td>\n",
              "      <td>1</td>\n",
              "      <td>0</td>\n",
              "      <td>1</td>\n",
              "      <td>0</td>\n",
              "      <td>1</td>\n",
              "      <td>0</td>\n",
              "      <td>1</td>\n",
              "      <td>0</td>\n",
              "      <td>0</td>\n",
              "      <td>1</td>\n",
              "      <td>1</td>\n",
              "    </tr>\n",
              "  </tbody>\n",
              "</table>\n",
              "<p>6922 rows × 18 columns</p>\n",
              "</div>\n",
              "    <div class=\"colab-df-buttons\">\n",
              "\n",
              "  <div class=\"colab-df-container\">\n",
              "    <button class=\"colab-df-convert\" onclick=\"convertToInteractive('df-de127cf6-a573-48ff-ab9f-f23c0249dea5')\"\n",
              "            title=\"Convert this dataframe to an interactive table.\"\n",
              "            style=\"display:none;\">\n",
              "\n",
              "  <svg xmlns=\"http://www.w3.org/2000/svg\" height=\"24px\" viewBox=\"0 -960 960 960\">\n",
              "    <path d=\"M120-120v-720h720v720H120Zm60-500h600v-160H180v160Zm220 220h160v-160H400v160Zm0 220h160v-160H400v160ZM180-400h160v-160H180v160Zm440 0h160v-160H620v160ZM180-180h160v-160H180v160Zm440 0h160v-160H620v160Z\"/>\n",
              "  </svg>\n",
              "    </button>\n",
              "\n",
              "  <style>\n",
              "    .colab-df-container {\n",
              "      display:flex;\n",
              "      gap: 12px;\n",
              "    }\n",
              "\n",
              "    .colab-df-convert {\n",
              "      background-color: #E8F0FE;\n",
              "      border: none;\n",
              "      border-radius: 50%;\n",
              "      cursor: pointer;\n",
              "      display: none;\n",
              "      fill: #1967D2;\n",
              "      height: 32px;\n",
              "      padding: 0 0 0 0;\n",
              "      width: 32px;\n",
              "    }\n",
              "\n",
              "    .colab-df-convert:hover {\n",
              "      background-color: #E2EBFA;\n",
              "      box-shadow: 0px 1px 2px rgba(60, 64, 67, 0.3), 0px 1px 3px 1px rgba(60, 64, 67, 0.15);\n",
              "      fill: #174EA6;\n",
              "    }\n",
              "\n",
              "    .colab-df-buttons div {\n",
              "      margin-bottom: 4px;\n",
              "    }\n",
              "\n",
              "    [theme=dark] .colab-df-convert {\n",
              "      background-color: #3B4455;\n",
              "      fill: #D2E3FC;\n",
              "    }\n",
              "\n",
              "    [theme=dark] .colab-df-convert:hover {\n",
              "      background-color: #434B5C;\n",
              "      box-shadow: 0px 1px 3px 1px rgba(0, 0, 0, 0.15);\n",
              "      filter: drop-shadow(0px 1px 2px rgba(0, 0, 0, 0.3));\n",
              "      fill: #FFFFFF;\n",
              "    }\n",
              "  </style>\n",
              "\n",
              "    <script>\n",
              "      const buttonEl =\n",
              "        document.querySelector('#df-de127cf6-a573-48ff-ab9f-f23c0249dea5 button.colab-df-convert');\n",
              "      buttonEl.style.display =\n",
              "        google.colab.kernel.accessAllowed ? 'block' : 'none';\n",
              "\n",
              "      async function convertToInteractive(key) {\n",
              "        const element = document.querySelector('#df-de127cf6-a573-48ff-ab9f-f23c0249dea5');\n",
              "        const dataTable =\n",
              "          await google.colab.kernel.invokeFunction('convertToInteractive',\n",
              "                                                    [key], {});\n",
              "        if (!dataTable) return;\n",
              "\n",
              "        const docLinkHtml = 'Like what you see? Visit the ' +\n",
              "          '<a target=\"_blank\" href=https://colab.research.google.com/notebooks/data_table.ipynb>data table notebook</a>'\n",
              "          + ' to learn more about interactive tables.';\n",
              "        element.innerHTML = '';\n",
              "        dataTable['output_type'] = 'display_data';\n",
              "        await google.colab.output.renderOutput(dataTable, element);\n",
              "        const docLink = document.createElement('div');\n",
              "        docLink.innerHTML = docLinkHtml;\n",
              "        element.appendChild(docLink);\n",
              "      }\n",
              "    </script>\n",
              "  </div>\n",
              "\n",
              "\n",
              "<div id=\"df-faebaad6-d8fc-46da-8137-2e74c1d353a5\">\n",
              "  <button class=\"colab-df-quickchart\" onclick=\"quickchart('df-faebaad6-d8fc-46da-8137-2e74c1d353a5')\"\n",
              "            title=\"Suggest charts.\"\n",
              "            style=\"display:none;\">\n",
              "\n",
              "<svg xmlns=\"http://www.w3.org/2000/svg\" height=\"24px\"viewBox=\"0 0 24 24\"\n",
              "     width=\"24px\">\n",
              "    <g>\n",
              "        <path d=\"M19 3H5c-1.1 0-2 .9-2 2v14c0 1.1.9 2 2 2h14c1.1 0 2-.9 2-2V5c0-1.1-.9-2-2-2zM9 17H7v-7h2v7zm4 0h-2V7h2v10zm4 0h-2v-4h2v4z\"/>\n",
              "    </g>\n",
              "</svg>\n",
              "  </button>\n",
              "\n",
              "<style>\n",
              "  .colab-df-quickchart {\n",
              "      --bg-color: #E8F0FE;\n",
              "      --fill-color: #1967D2;\n",
              "      --hover-bg-color: #E2EBFA;\n",
              "      --hover-fill-color: #174EA6;\n",
              "      --disabled-fill-color: #AAA;\n",
              "      --disabled-bg-color: #DDD;\n",
              "  }\n",
              "\n",
              "  [theme=dark] .colab-df-quickchart {\n",
              "      --bg-color: #3B4455;\n",
              "      --fill-color: #D2E3FC;\n",
              "      --hover-bg-color: #434B5C;\n",
              "      --hover-fill-color: #FFFFFF;\n",
              "      --disabled-bg-color: #3B4455;\n",
              "      --disabled-fill-color: #666;\n",
              "  }\n",
              "\n",
              "  .colab-df-quickchart {\n",
              "    background-color: var(--bg-color);\n",
              "    border: none;\n",
              "    border-radius: 50%;\n",
              "    cursor: pointer;\n",
              "    display: none;\n",
              "    fill: var(--fill-color);\n",
              "    height: 32px;\n",
              "    padding: 0;\n",
              "    width: 32px;\n",
              "  }\n",
              "\n",
              "  .colab-df-quickchart:hover {\n",
              "    background-color: var(--hover-bg-color);\n",
              "    box-shadow: 0 1px 2px rgba(60, 64, 67, 0.3), 0 1px 3px 1px rgba(60, 64, 67, 0.15);\n",
              "    fill: var(--button-hover-fill-color);\n",
              "  }\n",
              "\n",
              "  .colab-df-quickchart-complete:disabled,\n",
              "  .colab-df-quickchart-complete:disabled:hover {\n",
              "    background-color: var(--disabled-bg-color);\n",
              "    fill: var(--disabled-fill-color);\n",
              "    box-shadow: none;\n",
              "  }\n",
              "\n",
              "  .colab-df-spinner {\n",
              "    border: 2px solid var(--fill-color);\n",
              "    border-color: transparent;\n",
              "    border-bottom-color: var(--fill-color);\n",
              "    animation:\n",
              "      spin 1s steps(1) infinite;\n",
              "  }\n",
              "\n",
              "  @keyframes spin {\n",
              "    0% {\n",
              "      border-color: transparent;\n",
              "      border-bottom-color: var(--fill-color);\n",
              "      border-left-color: var(--fill-color);\n",
              "    }\n",
              "    20% {\n",
              "      border-color: transparent;\n",
              "      border-left-color: var(--fill-color);\n",
              "      border-top-color: var(--fill-color);\n",
              "    }\n",
              "    30% {\n",
              "      border-color: transparent;\n",
              "      border-left-color: var(--fill-color);\n",
              "      border-top-color: var(--fill-color);\n",
              "      border-right-color: var(--fill-color);\n",
              "    }\n",
              "    40% {\n",
              "      border-color: transparent;\n",
              "      border-right-color: var(--fill-color);\n",
              "      border-top-color: var(--fill-color);\n",
              "    }\n",
              "    60% {\n",
              "      border-color: transparent;\n",
              "      border-right-color: var(--fill-color);\n",
              "    }\n",
              "    80% {\n",
              "      border-color: transparent;\n",
              "      border-right-color: var(--fill-color);\n",
              "      border-bottom-color: var(--fill-color);\n",
              "    }\n",
              "    90% {\n",
              "      border-color: transparent;\n",
              "      border-bottom-color: var(--fill-color);\n",
              "    }\n",
              "  }\n",
              "</style>\n",
              "\n",
              "  <script>\n",
              "    async function quickchart(key) {\n",
              "      const quickchartButtonEl =\n",
              "        document.querySelector('#' + key + ' button');\n",
              "      quickchartButtonEl.disabled = true;  // To prevent multiple clicks.\n",
              "      quickchartButtonEl.classList.add('colab-df-spinner');\n",
              "      try {\n",
              "        const charts = await google.colab.kernel.invokeFunction(\n",
              "            'suggestCharts', [key], {});\n",
              "      } catch (error) {\n",
              "        console.error('Error during call to suggestCharts:', error);\n",
              "      }\n",
              "      quickchartButtonEl.classList.remove('colab-df-spinner');\n",
              "      quickchartButtonEl.classList.add('colab-df-quickchart-complete');\n",
              "    }\n",
              "    (() => {\n",
              "      let quickchartButtonEl =\n",
              "        document.querySelector('#df-faebaad6-d8fc-46da-8137-2e74c1d353a5 button');\n",
              "      quickchartButtonEl.style.display =\n",
              "        google.colab.kernel.accessAllowed ? 'block' : 'none';\n",
              "    })();\n",
              "  </script>\n",
              "</div>\n",
              "    </div>\n",
              "  </div>\n"
            ]
          },
          "metadata": {},
          "execution_count": 221
        }
      ],
      "source": [
        "data_mitra"
      ]
    },
    {
      "cell_type": "code",
      "execution_count": 222,
      "metadata": {
        "colab": {
          "base_uri": "https://localhost:8080/"
        },
        "id": "LS0nPrLrG_wB",
        "outputId": "087ad41b-5872-4cb8-fa74-e993f67a712e"
      },
      "outputs": [
        {
          "output_type": "execute_result",
          "data": {
            "text/plain": [
              "Jumlah Projek                           0\n",
              "Local Amount                            0\n",
              "nilai projek per LoP                    0\n",
              "Jumlah Projek.1                         0\n",
              "Duration (Days)                         0\n",
              "Masalaku                                0\n",
              "kontrak harga satuan kurang memenuhi    0\n",
              "kontrak harga satuan memenuhi           0\n",
              "kontrak harga satuan tidak memenuhi     0\n",
              "alker lengkap                           0\n",
              "alker tidak lengkap                     0\n",
              "stok material tersedia                  0\n",
              "stok material tidak tersedia            0\n",
              "team lengkap                            0\n",
              "team tidak lengkap                      0\n",
              "rapih                                   0\n",
              "tidak rapih                             0\n",
              "Label                                   0\n",
              "dtype: int64"
            ]
          },
          "metadata": {},
          "execution_count": 222
        }
      ],
      "source": [
        "data_mitra.isnull().sum()"
      ]
    },
    {
      "cell_type": "code",
      "execution_count": 223,
      "metadata": {
        "colab": {
          "base_uri": "https://localhost:8080/"
        },
        "id": "yYUoWaeohUwY",
        "outputId": "2cb2233f-fb46-473a-c2f4-915deb626063"
      },
      "outputs": [
        {
          "output_type": "stream",
          "name": "stdout",
          "text": [
            "Jumlah baris pada data: 6922\n"
          ]
        }
      ],
      "source": [
        "# Cek jumlah baris pada data\n",
        "jumlah_baris = data_mitra.shape[0]\n",
        "\n",
        "print(\"Jumlah baris pada data:\", jumlah_baris)"
      ]
    },
    {
      "cell_type": "code",
      "execution_count": 224,
      "metadata": {
        "colab": {
          "base_uri": "https://localhost:8080/"
        },
        "id": "gqNUd2A7JnlP",
        "outputId": "b42f35c4-8ba4-43f5-8a9b-78ddb85b6ee1"
      },
      "outputs": [
        {
          "output_type": "stream",
          "name": "stdout",
          "text": [
            "0    4277\n",
            "2    1427\n",
            "3     948\n",
            "1     270\n",
            "Name: Label, dtype: int64\n"
          ]
        }
      ],
      "source": [
        "print(data_mitra['Label'].value_counts())\n",
        "#print(df_dataTraining.value_counts())"
      ]
    },
    {
      "cell_type": "code",
      "execution_count": 225,
      "metadata": {
        "colab": {
          "base_uri": "https://localhost:8080/"
        },
        "id": "G2rFZLyq6jpe",
        "outputId": "fd7290ae-d484-4ac2-c5b6-76931627105a"
      },
      "outputs": [
        {
          "output_type": "execute_result",
          "data": {
            "text/plain": [
              "array([[        8,   3582546,  28660368, ...,         0,         1,\n",
              "                0],\n",
              "       [        8,  16057014, 128456112, ...,         0,         1,\n",
              "                0],\n",
              "       [        8,   1955579,  15644632, ...,         0,         1,\n",
              "                0],\n",
              "       ...,\n",
              "       [       16,   2165478,  34647648, ...,         0,         0,\n",
              "                1],\n",
              "       [       16,   2103255,  33652080, ...,         0,         0,\n",
              "                1],\n",
              "       [       16,   2165478,  34647648, ...,         0,         0,\n",
              "                1]])"
            ]
          },
          "metadata": {},
          "execution_count": 225
        }
      ],
      "source": [
        "X = data_mitra.drop(\"Label\",axis=1).to_numpy()\n",
        "X"
      ]
    },
    {
      "cell_type": "code",
      "execution_count": 226,
      "metadata": {
        "id": "jyagX_9H6tGW"
      },
      "outputs": [],
      "source": [
        "y = data_mitra['Label'].to_numpy()\n",
        "X = data_mitra.drop(\"Label\",axis=1).to_numpy()"
      ]
    },
    {
      "cell_type": "code",
      "execution_count": 227,
      "metadata": {
        "id": "lJzvYjOP6zes"
      },
      "outputs": [],
      "source": [
        "data_mitra['Label'] = pd.to_numeric(data_mitra['Label'])"
      ]
    },
    {
      "cell_type": "code",
      "execution_count": 228,
      "metadata": {
        "colab": {
          "base_uri": "https://localhost:8080/"
        },
        "id": "abIvq2F4653I",
        "outputId": "911d206d-d8a6-478a-ae3a-be5a3b3cddcf"
      },
      "outputs": [
        {
          "output_type": "execute_result",
          "data": {
            "text/plain": [
              "array([3, 3, 3, 3, 3])"
            ]
          },
          "metadata": {},
          "execution_count": 228
        }
      ],
      "source": [
        "y = data_mitra[\"Label\"].to_numpy()\n",
        "y[0:5]"
      ]
    },
    {
      "cell_type": "code",
      "execution_count": 229,
      "metadata": {
        "id": "q9Ycghyg6_7H"
      },
      "outputs": [],
      "source": [
        "from sklearn.model_selection import train_test_split\n",
        "X_train, X_test, y_train, y_test = train_test_split(X, y,test_size = 0.3, stratify=y, random_state=42)"
      ]
    },
    {
      "cell_type": "code",
      "execution_count": 230,
      "metadata": {
        "colab": {
          "base_uri": "https://localhost:8080/"
        },
        "id": "z_c0kkGk7OGw",
        "outputId": "6130de43-0678-471d-abf9-6236ae0dc677"
      },
      "outputs": [
        {
          "output_type": "stream",
          "name": "stdout",
          "text": [
            "(4845, 17)\n",
            "(4845,)\n",
            "(2077, 17)\n",
            "(2077,)\n"
          ]
        }
      ],
      "source": [
        "print(X_train.shape)\n",
        "print(y_train.shape)\n",
        "print(X_test.shape)\n",
        "print(y_test.shape)"
      ]
    },
    {
      "cell_type": "markdown",
      "metadata": {
        "id": "6KiKQb7oZ7N4"
      },
      "source": [
        "**XGBOOST**"
      ]
    },
    {
      "cell_type": "code",
      "execution_count": 231,
      "metadata": {
        "id": "oI0AFhPn7WMy"
      },
      "outputs": [],
      "source": [
        "import xgboost as xgb"
      ]
    },
    {
      "cell_type": "code",
      "execution_count": 232,
      "metadata": {
        "id": "FTmL3n-r59wO"
      },
      "outputs": [],
      "source": [
        "# Buat objek XGBoost\n",
        "xgb_clf = xgb.XGBClassifier()"
      ]
    },
    {
      "cell_type": "code",
      "execution_count": 233,
      "metadata": {
        "id": "iLXUGwo77azm"
      },
      "outputs": [],
      "source": [
        "# Train XGBoost classifier\n",
        "dtrain = xgb.DMatrix(X_train, label=y_train)\n",
        "dtest = xgb.DMatrix(X_test, label=y_test)\n",
        "param = {\n",
        "    'max_depth': 6,\n",
        "    'eta': 0.3,\n",
        "    'objective': 'multi:softmax',\n",
        "    'num_class': len(set(y_train)) + 1\n",
        "}\n",
        "num_round = 100\n",
        "bst = xgb.train(param, dtrain, num_round)\n",
        "\n",
        "# Predict for test data\n",
        "y_pred = bst.predict(dtest)"
      ]
    },
    {
      "cell_type": "code",
      "execution_count": 234,
      "metadata": {
        "colab": {
          "base_uri": "https://localhost:8080/"
        },
        "id": "sUwtSmxd7gAJ",
        "outputId": "5b3beeda-e461-4cfa-a750-1314204706cd"
      },
      "outputs": [
        {
          "output_type": "stream",
          "name": "stdout",
          "text": [
            "Accuracy: 0.8598940779971113\n",
            "Classification Report:\n",
            "              precision    recall  f1-score   support\n",
            "\n",
            "           0       0.88      0.95      0.91      1283\n",
            "           1       0.83      0.65      0.73        81\n",
            "           2       0.81      0.72      0.76       428\n",
            "           3       0.82      0.74      0.78       285\n",
            "\n",
            "    accuracy                           0.86      2077\n",
            "   macro avg       0.84      0.77      0.80      2077\n",
            "weighted avg       0.86      0.86      0.86      2077\n",
            "\n",
            "Confusion Matrix:\n",
            "[[1213    3   45   22]\n",
            " [  15   53    6    7]\n",
            " [  95    8  308   17]\n",
            " [  53    0   20  212]]\n"
          ]
        }
      ],
      "source": [
        "from sklearn.metrics import accuracy_score, classification_report, confusion_matrix\n",
        "# Evaluate accuracy of classifier\n",
        "accuracy = accuracy_score(y_test, y_pred)\n",
        "print(\"Accuracy:\", accuracy)\n",
        "\n",
        "# Print classification report\n",
        "print(\"Classification Report:\")\n",
        "print(classification_report(y_test, y_pred))\n",
        "\n",
        "# Print confusion matrix\n",
        "print(\"Confusion Matrix:\")\n",
        "print(confusion_matrix(y_test, y_pred))"
      ]
    },
    {
      "cell_type": "code",
      "execution_count": 235,
      "metadata": {
        "colab": {
          "base_uri": "https://localhost:8080/",
          "height": 472
        },
        "id": "1jpTU_l5hQSJ",
        "outputId": "f38fbdf2-ff11-42ab-d4ec-35dc8d51c2ac"
      },
      "outputs": [
        {
          "output_type": "display_data",
          "data": {
            "text/plain": [
              "<Figure size 640x480 with 2 Axes>"
            ],
            "image/png": "[encoded data removed]"
          },
          "metadata": {}
        }
      ],
      "source": [
        "import seaborn as sns\n",
        "import matplotlib.pyplot as plt\n",
        "\n",
        "# Cetak confusion matrix dalam bentuk gambar\n",
        "cm = confusion_matrix(y_test, y_pred)\n",
        "sns.heatmap(cm, annot=True, cmap='Blues', fmt='g',\n",
        "            annot_kws={\"size\": 16, \"ha\": 'center', \"va\": 'center'})\n",
        "plt.xlabel('Predicted')\n",
        "plt.ylabel('Actual')\n",
        "\n",
        "# Atur label sumbu x dan y\n",
        "plt.xticks([0.5, 1.5, 2.5, 3.5], ['baik sekali (0)', 'baik (1)', 'cukup (2)', 'buruk (3)'])\n",
        "plt.yticks([0.5, 1.5, 2.5, 3.5], ['baik sekali (0)', 'baik (1)', 'cukup (2)', 'buruk (3)'])\n",
        "\n",
        "plt.title('Confusion Matrix')\n",
        "plt.show()"
      ]
    },
    {
      "cell_type": "code",
      "execution_count": 236,
      "metadata": {
        "colab": {
          "base_uri": "https://localhost:8080/"
        },
        "id": "YzcvpQRggIqf",
        "outputId": "5594114f-a6e1-4355-ac6b-6b0d551ae9f1"
      },
      "outputs": [
        {
          "output_type": "execute_result",
          "data": {
            "text/plain": [
              "array([2., 0., 1., ..., 0., 0., 3.], dtype=float32)"
            ]
          },
          "metadata": {},
          "execution_count": 236
        }
      ],
      "source": [
        "y_pred"
      ]
    },
    {
      "cell_type": "code",
      "execution_count": 237,
      "metadata": {
        "colab": {
          "base_uri": "https://localhost:8080/",
          "height": 423
        },
        "id": "bd_3SCu0eHRJ",
        "outputId": "e20cecd6-76c3-4cab-8225-6bb27fa0f2cf"
      },
      "outputs": [
        {
          "output_type": "execute_result",
          "data": {
            "text/plain": [
              "    data test  data prediksi\n",
              "0           2            2.0\n",
              "1           0            0.0\n",
              "2           1            1.0\n",
              "3           0            2.0\n",
              "4           2            2.0\n",
              "..        ...            ...\n",
              "95          0            0.0\n",
              "96          0            0.0\n",
              "97          0            0.0\n",
              "98          0            0.0\n",
              "99          2            2.0\n",
              "\n",
              "[100 rows x 2 columns]"
            ],
            "text/html": [
              "\n",
              "  <div id=\"df-ed355e69-cc7b-4ca2-a50f-22a01a3d05c4\" class=\"colab-df-container\">\n",
              "    <div>\n",
              "<style scoped>\n",
              "    .dataframe tbody tr th:only-of-type {\n",
              "        vertical-align: middle;\n",
              "    }\n",
              "\n",
              "    .dataframe tbody tr th {\n",
              "        vertical-align: top;\n",
              "    }\n",
              "\n",
              "    .dataframe thead th {\n",
              "        text-align: right;\n",
              "    }\n",
              "</style>\n",
              "<table border=\"1\" class=\"dataframe\">\n",
              "  <thead>\n",
              "    <tr style=\"text-align: right;\">\n",
              "      <th></th>\n",
              "      <th>data test</th>\n",
              "      <th>data prediksi</th>\n",
              "    </tr>\n",
              "  </thead>\n",
              "  <tbody>\n",
              "    <tr>\n",
              "      <th>0</th>\n",
              "      <td>2</td>\n",
              "      <td>2.0</td>\n",
              "    </tr>\n",
              "    <tr>\n",
              "      <th>1</th>\n",
              "      <td>0</td>\n",
              "      <td>0.0</td>\n",
              "    </tr>\n",
              "    <tr>\n",
              "      <th>2</th>\n",
              "      <td>1</td>\n",
              "      <td>1.0</td>\n",
              "    </tr>\n",
              "    <tr>\n",
              "      <th>3</th>\n",
              "      <td>0</td>\n",
              "      <td>2.0</td>\n",
              "    </tr>\n",
              "    <tr>\n",
              "      <th>4</th>\n",
              "      <td>2</td>\n",
              "      <td>2.0</td>\n",
              "    </tr>\n",
              "    <tr>\n",
              "      <th>...</th>\n",
              "      <td>...</td>\n",
              "      <td>...</td>\n",
              "    </tr>\n",
              "    <tr>\n",
              "      <th>95</th>\n",
              "      <td>0</td>\n",
              "      <td>0.0</td>\n",
              "    </tr>\n",
              "    <tr>\n",
              "      <th>96</th>\n",
              "      <td>0</td>\n",
              "      <td>0.0</td>\n",
              "    </tr>\n",
              "    <tr>\n",
              "      <th>97</th>\n",
              "      <td>0</td>\n",
              "      <td>0.0</td>\n",
              "    </tr>\n",
              "    <tr>\n",
              "      <th>98</th>\n",
              "      <td>0</td>\n",
              "      <td>0.0</td>\n",
              "    </tr>\n",
              "    <tr>\n",
              "      <th>99</th>\n",
              "      <td>2</td>\n",
              "      <td>2.0</td>\n",
              "    </tr>\n",
              "  </tbody>\n",
              "</table>\n",
              "<p>100 rows × 2 columns</p>\n",
              "</div>\n",
              "    <div class=\"colab-df-buttons\">\n",
              "\n",
              "  <div class=\"colab-df-container\">\n",
              "    <button class=\"colab-df-convert\" onclick=\"convertToInteractive('df-ed355e69-cc7b-4ca2-a50f-22a01a3d05c4')\"\n",
              "            title=\"Convert this dataframe to an interactive table.\"\n",
              "            style=\"display:none;\">\n",
              "\n",
              "  <svg xmlns=\"http://www.w3.org/2000/svg\" height=\"24px\" viewBox=\"0 -960 960 960\">\n",
              "    <path d=\"M120-120v-720h720v720H120Zm60-500h600v-160H180v160Zm220 220h160v-160H400v160Zm0 220h160v-160H400v160ZM180-400h160v-160H180v160Zm440 0h160v-160H620v160ZM180-180h160v-160H180v160Zm440 0h160v-160H620v160Z\"/>\n",
              "  </svg>\n",
              "    </button>\n",
              "\n",
              "  <style>\n",
              "    .colab-df-container {\n",
              "      display:flex;\n",
              "      gap: 12px;\n",
              "    }\n",
              "\n",
              "    .colab-df-convert {\n",
              "      background-color: #E8F0FE;\n",
              "      border: none;\n",
              "      border-radius: 50%;\n",
              "      cursor: pointer;\n",
              "      display: none;\n",
              "      fill: #1967D2;\n",
              "      height: 32px;\n",
              "      padding: 0 0 0 0;\n",
              "      width: 32px;\n",
              "    }\n",
              "\n",
              "    .colab-df-convert:hover {\n",
              "      background-color: #E2EBFA;\n",
              "      box-shadow: 0px 1px 2px rgba(60, 64, 67, 0.3), 0px 1px 3px 1px rgba(60, 64, 67, 0.15);\n",
              "      fill: #174EA6;\n",
              "    }\n",
              "\n",
              "    .colab-df-buttons div {\n",
              "      margin-bottom: 4px;\n",
              "    }\n",
              "\n",
              "    [theme=dark] .colab-df-convert {\n",
              "      background-color: #3B4455;\n",
              "      fill: #D2E3FC;\n",
              "    }\n",
              "\n",
              "    [theme=dark] .colab-df-convert:hover {\n",
              "      background-color: #434B5C;\n",
              "      box-shadow: 0px 1px 3px 1px rgba(0, 0, 0, 0.15);\n",
              "      filter: drop-shadow(0px 1px 2px rgba(0, 0, 0, 0.3));\n",
              "      fill: #FFFFFF;\n",
              "    }\n",
              "  </style>\n",
              "\n",
              "    <script>\n",
              "      const buttonEl =\n",
              "        document.querySelector('#df-ed355e69-cc7b-4ca2-a50f-22a01a3d05c4 button.colab-df-convert');\n",
              "      buttonEl.style.display =\n",
              "        google.colab.kernel.accessAllowed ? 'block' : 'none';\n",
              "\n",
              "      async function convertToInteractive(key) {\n",
              "        const element = document.querySelector('#df-ed355e69-cc7b-4ca2-a50f-22a01a3d05c4');\n",
              "        const dataTable =\n",
              "          await google.colab.kernel.invokeFunction('convertToInteractive',\n",
              "                                                    [key], {});\n",
              "        if (!dataTable) return;\n",
              "\n",
              "        const docLinkHtml = 'Like what you see? Visit the ' +\n",
              "          '<a target=\"_blank\" href=https://colab.research.google.com/notebooks/data_table.ipynb>data table notebook</a>'\n",
              "          + ' to learn more about interactive tables.';\n",
              "        element.innerHTML = '';\n",
              "        dataTable['output_type'] = 'display_data';\n",
              "        await google.colab.output.renderOutput(dataTable, element);\n",
              "        const docLink = document.createElement('div');\n",
              "        docLink.innerHTML = docLinkHtml;\n",
              "        element.appendChild(docLink);\n",
              "      }\n",
              "    </script>\n",
              "  </div>\n",
              "\n",
              "\n",
              "<div id=\"df-9b2d30f9-9c50-48b0-ab2c-758eceb06985\">\n",
              "  <button class=\"colab-df-quickchart\" onclick=\"quickchart('df-9b2d30f9-9c50-48b0-ab2c-758eceb06985')\"\n",
              "            title=\"Suggest charts.\"\n",
              "            style=\"display:none;\">\n",
              "\n",
              "<svg xmlns=\"http://www.w3.org/2000/svg\" height=\"24px\"viewBox=\"0 0 24 24\"\n",
              "     width=\"24px\">\n",
              "    <g>\n",
              "        <path d=\"M19 3H5c-1.1 0-2 .9-2 2v14c0 1.1.9 2 2 2h14c1.1 0 2-.9 2-2V5c0-1.1-.9-2-2-2zM9 17H7v-7h2v7zm4 0h-2V7h2v10zm4 0h-2v-4h2v4z\"/>\n",
              "    </g>\n",
              "</svg>\n",
              "  </button>\n",
              "\n",
              "<style>\n",
              "  .colab-df-quickchart {\n",
              "      --bg-color: #E8F0FE;\n",
              "      --fill-color: #1967D2;\n",
              "      --hover-bg-color: #E2EBFA;\n",
              "      --hover-fill-color: #174EA6;\n",
              "      --disabled-fill-color: #AAA;\n",
              "      --disabled-bg-color: #DDD;\n",
              "  }\n",
              "\n",
              "  [theme=dark] .colab-df-quickchart {\n",
              "      --bg-color: #3B4455;\n",
              "      --fill-color: #D2E3FC;\n",
              "      --hover-bg-color: #434B5C;\n",
              "      --hover-fill-color: #FFFFFF;\n",
              "      --disabled-bg-color: #3B4455;\n",
              "      --disabled-fill-color: #666;\n",
              "  }\n",
              "\n",
              "  .colab-df-quickchart {\n",
              "    background-color: var(--bg-color);\n",
              "    border: none;\n",
              "    border-radius: 50%;\n",
              "    cursor: pointer;\n",
              "    display: none;\n",
              "    fill: var(--fill-color);\n",
              "    height: 32px;\n",
              "    padding: 0;\n",
              "    width: 32px;\n",
              "  }\n",
              "\n",
              "  .colab-df-quickchart:hover {\n",
              "    background-color: var(--hover-bg-color);\n",
              "    box-shadow: 0 1px 2px rgba(60, 64, 67, 0.3), 0 1px 3px 1px rgba(60, 64, 67, 0.15);\n",
              "    fill: var(--button-hover-fill-color);\n",
              "  }\n",
              "\n",
              "  .colab-df-quickchart-complete:disabled,\n",
              "  .colab-df-quickchart-complete:disabled:hover {\n",
              "    background-color: var(--disabled-bg-color);\n",
              "    fill: var(--disabled-fill-color);\n",
              "    box-shadow: none;\n",
              "  }\n",
              "\n",
              "  .colab-df-spinner {\n",
              "    border: 2px solid var(--fill-color);\n",
              "    border-color: transparent;\n",
              "    border-bottom-color: var(--fill-color);\n",
              "    animation:\n",
              "      spin 1s steps(1) infinite;\n",
              "  }\n",
              "\n",
              "  @keyframes spin {\n",
              "    0% {\n",
              "      border-color: transparent;\n",
              "      border-bottom-color: var(--fill-color);\n",
              "      border-left-color: var(--fill-color);\n",
              "    }\n",
              "    20% {\n",
              "      border-color: transparent;\n",
              "      border-left-color: var(--fill-color);\n",
              "      border-top-color: var(--fill-color);\n",
              "    }\n",
              "    30% {\n",
              "      border-color: transparent;\n",
              "      border-left-color: var(--fill-color);\n",
              "      border-top-color: var(--fill-color);\n",
              "      border-right-color: var(--fill-color);\n",
              "    }\n",
              "    40% {\n",
              "      border-color: transparent;\n",
              "      border-right-color: var(--fill-color);\n",
              "      border-top-color: var(--fill-color);\n",
              "    }\n",
              "    60% {\n",
              "      border-color: transparent;\n",
              "      border-right-color: var(--fill-color);\n",
              "    }\n",
              "    80% {\n",
              "      border-color: transparent;\n",
              "      border-right-color: var(--fill-color);\n",
              "      border-bottom-color: var(--fill-color);\n",
              "    }\n",
              "    90% {\n",
              "      border-color: transparent;\n",
              "      border-bottom-color: var(--fill-color);\n",
              "    }\n",
              "  }\n",
              "</style>\n",
              "\n",
              "  <script>\n",
              "    async function quickchart(key) {\n",
              "      const quickchartButtonEl =\n",
              "        document.querySelector('#' + key + ' button');\n",
              "      quickchartButtonEl.disabled = true;  // To prevent multiple clicks.\n",
              "      quickchartButtonEl.classList.add('colab-df-spinner');\n",
              "      try {\n",
              "        const charts = await google.colab.kernel.invokeFunction(\n",
              "            'suggestCharts', [key], {});\n",
              "      } catch (error) {\n",
              "        console.error('Error during call to suggestCharts:', error);\n",
              "      }\n",
              "      quickchartButtonEl.classList.remove('colab-df-spinner');\n",
              "      quickchartButtonEl.classList.add('colab-df-quickchart-complete');\n",
              "    }\n",
              "    (() => {\n",
              "      let quickchartButtonEl =\n",
              "        document.querySelector('#df-9b2d30f9-9c50-48b0-ab2c-758eceb06985 button');\n",
              "      quickchartButtonEl.style.display =\n",
              "        google.colab.kernel.accessAllowed ? 'block' : 'none';\n",
              "    })();\n",
              "  </script>\n",
              "</div>\n",
              "    </div>\n",
              "  </div>\n"
            ]
          },
          "metadata": {},
          "execution_count": 237
        }
      ],
      "source": [
        "# data = [ y_test ['data_test'], y_pred ['data_prediksi']]\n",
        "df_new = df = pd.DataFrame({'data test':y_test, 'data prediksi':y_pred})\n",
        "df_new.head(100)"
      ]
    },
    {
      "cell_type": "code",
      "execution_count": 238,
      "metadata": {
        "id": "wo6wE9_5hD8a"
      },
      "outputs": [],
      "source": [
        "df_new.to_excel(\"output_perbandinga.xlsx\")"
      ]
    },
    {
      "cell_type": "code",
      "execution_count": 239,
      "metadata": {
        "id": "k4XqOnJd8K16"
      },
      "outputs": [],
      "source": [
        "from sklearn.ensemble import AdaBoostClassifier"
      ]
    },
    {
      "cell_type": "code",
      "execution_count": 240,
      "metadata": {
        "colab": {
          "base_uri": "https://localhost:8080/",
          "height": 74
        },
        "id": "OJAPpEML8Nvj",
        "outputId": "12b31dfd-ac07-467d-882b-42564f13b97f"
      },
      "outputs": [
        {
          "output_type": "execute_result",
          "data": {
            "text/plain": [
              "AdaBoostClassifier()"
            ],
            "text/html": [
              "<style>#sk-container-id-7 {color: black;background-color: white;}#sk-container-id-7 pre{padding: 0;}#sk-container-id-7 div.sk-toggleable {background-color: white;}#sk-container-id-7 label.sk-toggleable__label {cursor: pointer;display: block;width: 100%;margin-bottom: 0;padding: 0.3em;box-sizing: border-box;text-align: center;}#sk-container-id-7 label.sk-toggleable__label-arrow:before {content: \"▸\";float: left;margin-right: 0.25em;color: #696969;}#sk-container-id-7 label.sk-toggleable__label-arrow:hover:before {color: black;}#sk-container-id-7 div.sk-estimator:hover label.sk-toggleable__label-arrow:before {color: black;}#sk-container-id-7 div.sk-toggleable__content {max-height: 0;max-width: 0;overflow: hidden;text-align: left;background-color: #f0f8ff;}#sk-container-id-7 div.sk-toggleable__content pre {margin: 0.2em;color: black;border-radius: 0.25em;background-color: #f0f8ff;}#sk-container-id-7 input.sk-toggleable__control:checked~div.sk-toggleable__content {max-height: 200px;max-width: 100%;overflow: auto;}#sk-container-id-7 input.sk-toggleable__control:checked~label.sk-toggleable__label-arrow:before {content: \"▾\";}#sk-container-id-7 div.sk-estimator input.sk-toggleable__control:checked~label.sk-toggleable__label {background-color: #d4ebff;}#sk-container-id-7 div.sk-label input.sk-toggleable__control:checked~label.sk-toggleable__label {background-color: #d4ebff;}#sk-container-id-7 input.sk-hidden--visually {border: 0;clip: rect(1px 1px 1px 1px);clip: rect(1px, 1px, 1px, 1px);height: 1px;margin: -1px;overflow: hidden;padding: 0;position: absolute;width: 1px;}#sk-container-id-7 div.sk-estimator {font-family: monospace;background-color: #f0f8ff;border: 1px dotted black;border-radius: 0.25em;box-sizing: border-box;margin-bottom: 0.5em;}#sk-container-id-7 div.sk-estimator:hover {background-color: #d4ebff;}#sk-container-id-7 div.sk-parallel-item::after {content: \"\";width: 100%;border-bottom: 1px solid gray;flex-grow: 1;}#sk-container-id-7 div.sk-label:hover label.sk-toggleable__label {background-color: #d4ebff;}#sk-container-id-7 div.sk-serial::before {content: \"\";position: absolute;border-left: 1px solid gray;box-sizing: border-box;top: 0;bottom: 0;left: 50%;z-index: 0;}#sk-container-id-7 div.sk-serial {display: flex;flex-direction: column;align-items: center;background-color: white;padding-right: 0.2em;padding-left: 0.2em;position: relative;}#sk-container-id-7 div.sk-item {position: relative;z-index: 1;}#sk-container-id-7 div.sk-parallel {display: flex;align-items: stretch;justify-content: center;background-color: white;position: relative;}#sk-container-id-7 div.sk-item::before, #sk-container-id-7 div.sk-parallel-item::before {content: \"\";position: absolute;border-left: 1px solid gray;box-sizing: border-box;top: 0;bottom: 0;left: 50%;z-index: -1;}#sk-container-id-7 div.sk-parallel-item {display: flex;flex-direction: column;z-index: 1;position: relative;background-color: white;}#sk-container-id-7 div.sk-parallel-item:first-child::after {align-self: flex-end;width: 50%;}#sk-container-id-7 div.sk-parallel-item:last-child::after {align-self: flex-start;width: 50%;}#sk-container-id-7 div.sk-parallel-item:only-child::after {width: 0;}#sk-container-id-7 div.sk-dashed-wrapped {border: 1px dashed gray;margin: 0 0.4em 0.5em 0.4em;box-sizing: border-box;padding-bottom: 0.4em;background-color: white;}#sk-container-id-7 div.sk-label label {font-family: monospace;font-weight: bold;display: inline-block;line-height: 1.2em;}#sk-container-id-7 div.sk-label-container {text-align: center;}#sk-container-id-7 div.sk-container {/* jupyter's `normalize.less` sets `[hidden] { display: none; }` but bootstrap.min.css set `[hidden] { display: none !important; }` so we also need the `!important` here to be able to override the default hidden behavior on the sphinx rendered scikit-learn.org. See: https://github.com/scikit-learn/scikit-learn/issues/21755 */display: inline-block !important;position: relative;}#sk-container-id-7 div.sk-text-repr-fallback {display: none;}</style><div id=\"sk-container-id-7\" class=\"sk-top-container\"><div class=\"sk-text-repr-fallback\"><pre>AdaBoostClassifier()</pre><b>In a Jupyter environment, please rerun this cell to show the HTML representation or trust the notebook. <br />On GitHub, the HTML representation is unable to render, please try loading this page with nbviewer.org.</b></div><div class=\"sk-container\" hidden><div class=\"sk-item\"><div class=\"sk-estimator sk-toggleable\"><input class=\"sk-toggleable__control sk-hidden--visually\" id=\"sk-estimator-id-7\" type=\"checkbox\" checked><label for=\"sk-estimator-id-7\" class=\"sk-toggleable__label sk-toggleable__label-arrow\">AdaBoostClassifier</label><div class=\"sk-toggleable__content\"><pre>AdaBoostClassifier()</pre></div></div></div></div></div>"
            ]
          },
          "metadata": {},
          "execution_count": 240
        }
      ],
      "source": [
        "# Buat objek AdaboostClassifier\n",
        "adaboost_clf = AdaBoostClassifier()\n",
        "\n",
        "# Latih model pada data pelatihan\n",
        "adaboost_clf.fit(X_train, y_train)"
      ]
    },
    {
      "cell_type": "code",
      "execution_count": 241,
      "metadata": {
        "id": "34xwKZlt8XS4"
      },
      "outputs": [],
      "source": [
        "# Buat prediksi pada data pengujian\n",
        "y_pred = adaboost_clf.predict(X_test)"
      ]
    },
    {
      "cell_type": "code",
      "execution_count": 242,
      "metadata": {
        "colab": {
          "base_uri": "https://localhost:8080/"
        },
        "id": "uf132CNC8ZyV",
        "outputId": "b7c417a8-c9dc-4ebb-8893-3340dbf96238"
      },
      "outputs": [
        {
          "output_type": "stream",
          "name": "stdout",
          "text": [
            "Akurasi: 0.7669715936446798\n"
          ]
        }
      ],
      "source": [
        "# Hitung akurasi dari prediksi\n",
        "accuracy = accuracy_score(y_test, y_pred)\n",
        "print(\"Akurasi:\", accuracy)"
      ]
    },
    {
      "cell_type": "code",
      "execution_count": 243,
      "metadata": {
        "colab": {
          "base_uri": "https://localhost:8080/"
        },
        "id": "Y702WGbu5avz",
        "outputId": "3d97c8ff-c1c9-4237-957a-307d2bc67f08"
      },
      "outputs": [
        {
          "output_type": "stream",
          "name": "stdout",
          "text": [
            "Accuracy: 0.7669715936446798\n",
            "Classification Report:\n",
            "              precision    recall  f1-score   support\n",
            "\n",
            "           0       0.82      0.89      0.85      1283\n",
            "           1       0.40      0.23      0.29        81\n",
            "           2       0.67      0.63      0.65       428\n",
            "           3       0.71      0.57      0.63       285\n",
            "\n",
            "    accuracy                           0.77      2077\n",
            "   macro avg       0.65      0.58      0.61      2077\n",
            "weighted avg       0.76      0.77      0.76      2077\n",
            "\n",
            "Confusion Matrix:\n",
            "[[1142   12   84   45]\n",
            " [  39   19   16    7]\n",
            " [ 133   10  270   15]\n",
            " [  81    7   35  162]]\n"
          ]
        }
      ],
      "source": [
        "from sklearn.metrics import accuracy_score, classification_report, confusion_matrix\n",
        "# Evaluate accuracy of classifier\n",
        "accuracy = accuracy_score(y_test, y_pred)\n",
        "print(\"Accuracy:\", accuracy)\n",
        "\n",
        "# Print classification report\n",
        "print(\"Classification Report:\")\n",
        "print(classification_report(y_test, y_pred))\n",
        "\n",
        "# Print confusion matrix\n",
        "print(\"Confusion Matrix:\")\n",
        "print(confusion_matrix(y_test, y_pred))"
      ]
    },
    {
      "cell_type": "code",
      "execution_count": 244,
      "metadata": {
        "colab": {
          "base_uri": "https://localhost:8080/"
        },
        "id": "TtjxXWUMQ7HI",
        "outputId": "2f2571b9-ca13-4a49-fcf9-fc3322bba3be"
      },
      "outputs": [
        {
          "output_type": "stream",
          "name": "stdout",
          "text": [
            "Akurasi: 0.7761194029850746\n"
          ]
        }
      ],
      "source": [
        "from sklearn.tree import DecisionTreeClassifier\n",
        "import numpy as np\n",
        "\n",
        "class AdaBoost:\n",
        "    def __init__(self, n_estimators=100, learning_rate=1.0):\n",
        "        self.n_estimators = n_estimators\n",
        "        self.learning_rate = learning_rate\n",
        "        self.estimators = []\n",
        "        self.estimator_weights = []\n",
        "\n",
        "    def fit(self, X, y):\n",
        "        # Inisialisasi bobot sampel\n",
        "        sample_weights = np.full(len(X), 1 / len(X))\n",
        "\n",
        "        for _ in range(self.n_estimators):\n",
        "            # Membuat pengklasifikasi lemah baru (DecisionTreeClassifier dalam hal ini)\n",
        "            estimator = DecisionTreeClassifier(max_depth=2)  # Mengubah max_depth menjadi 2\n",
        "            estimator.fit(X, y, sample_weight=sample_weights)\n",
        "\n",
        "            # Prediksi dengan pengklasifikasi saat ini\n",
        "            y_pred = estimator.predict(X)\n",
        "\n",
        "            # Menghitung kesalahan tertimbang\n",
        "            weighted_error = np.sum(sample_weights * (y_pred != y)) / np.sum(sample_weights)\n",
        "\n",
        "            # Menghitung bobot pengklasifikasi\n",
        "            estimator_weight = self.learning_rate * np.log((1 - weighted_error) / weighted_error)\n",
        "\n",
        "            # Memperbarui bobot sampel\n",
        "            sample_weights *= np.exp(estimator_weight * (y_pred != y))\n",
        "\n",
        "            # Menormalisasi bobot sampel\n",
        "            sample_weights /= np.sum(sample_weights)\n",
        "\n",
        "            # Menambahkan pengklasifikasi dan bobotnya ke daftar\n",
        "            self.estimators.append(estimator)\n",
        "            self.estimator_weights.append(estimator_weight)\n",
        "\n",
        "    def predict_proba(self, X):\n",
        "        # Inisialisasi prediksi\n",
        "        pred = np.zeros((X.shape[0], np.max(y) + 1))\n",
        "\n",
        "        for i in range(len(self.estimators)):\n",
        "            estimator = self.estimators[i]\n",
        "            estimator_weight = self.estimator_weights[i]\n",
        "\n",
        "            # Memperbarui prediksi dengan pengklasifikasi saat ini\n",
        "            pred += estimator_weight * estimator.predict_proba(X)\n",
        "\n",
        "        return pred / np.sum(self.estimator_weights)\n",
        "\n",
        "    def predict(self, X):\n",
        "        # Memprediksi kelas dengan probabilitas tertinggi\n",
        "        return np.argmax(self.predict_proba(X), axis=1)\n",
        "\n",
        "from sklearn.metrics import accuracy_score\n",
        "\n",
        "# Menginisialisasi model AdaBoost dengan parameter yang berbeda\n",
        "adaboost = AdaBoost(n_estimators=50, learning_rate=0.5)  # Mengubah jumlah pengklasifikasi dan tingkat pembelajaran\n",
        "\n",
        "# Melatih model pada set pelatihan\n",
        "adaboost.fit(X_train, y_train)\n",
        "\n",
        "# Memprediksi kelas pada set pengujian\n",
        "y_pred = adaboost.predict(X_test)\n",
        "\n",
        "# Menghitung akurasi model\n",
        "akurasi = accuracy_score(y_test, y_pred)\n",
        "print(\"Akurasi:\", akurasi)"
      ]
    },
    {
      "cell_type": "code",
      "execution_count": 245,
      "metadata": {
        "id": "EENhOWYs8s2R"
      },
      "outputs": [],
      "source": [
        "from sklearn.ensemble import GradientBoostingClassifier"
      ]
    },
    {
      "cell_type": "code",
      "execution_count": 246,
      "metadata": {
        "colab": {
          "base_uri": "https://localhost:8080/",
          "height": 74
        },
        "id": "trH3GtOL8u9O",
        "outputId": "e2b220a7-b372-4a77-8448-f9800612f1b9"
      },
      "outputs": [
        {
          "output_type": "execute_result",
          "data": {
            "text/plain": [
              "GradientBoostingClassifier()"
            ],
            "text/html": [
              "<style>#sk-container-id-8 {color: black;background-color: white;}#sk-container-id-8 pre{padding: 0;}#sk-container-id-8 div.sk-toggleable {background-color: white;}#sk-container-id-8 label.sk-toggleable__label {cursor: pointer;display: block;width: 100%;margin-bottom: 0;padding: 0.3em;box-sizing: border-box;text-align: center;}#sk-container-id-8 label.sk-toggleable__label-arrow:before {content: \"▸\";float: left;margin-right: 0.25em;color: #696969;}#sk-container-id-8 label.sk-toggleable__label-arrow:hover:before {color: black;}#sk-container-id-8 div.sk-estimator:hover label.sk-toggleable__label-arrow:before {color: black;}#sk-container-id-8 div.sk-toggleable__content {max-height: 0;max-width: 0;overflow: hidden;text-align: left;background-color: #f0f8ff;}#sk-container-id-8 div.sk-toggleable__content pre {margin: 0.2em;color: black;border-radius: 0.25em;background-color: #f0f8ff;}#sk-container-id-8 input.sk-toggleable__control:checked~div.sk-toggleable__content {max-height: 200px;max-width: 100%;overflow: auto;}#sk-container-id-8 input.sk-toggleable__control:checked~label.sk-toggleable__label-arrow:before {content: \"▾\";}#sk-container-id-8 div.sk-estimator input.sk-toggleable__control:checked~label.sk-toggleable__label {background-color: #d4ebff;}#sk-container-id-8 div.sk-label input.sk-toggleable__control:checked~label.sk-toggleable__label {background-color: #d4ebff;}#sk-container-id-8 input.sk-hidden--visually {border: 0;clip: rect(1px 1px 1px 1px);clip: rect(1px, 1px, 1px, 1px);height: 1px;margin: -1px;overflow: hidden;padding: 0;position: absolute;width: 1px;}#sk-container-id-8 div.sk-estimator {font-family: monospace;background-color: #f0f8ff;border: 1px dotted black;border-radius: 0.25em;box-sizing: border-box;margin-bottom: 0.5em;}#sk-container-id-8 div.sk-estimator:hover {background-color: #d4ebff;}#sk-container-id-8 div.sk-parallel-item::after {content: \"\";width: 100%;border-bottom: 1px solid gray;flex-grow: 1;}#sk-container-id-8 div.sk-label:hover label.sk-toggleable__label {background-color: #d4ebff;}#sk-container-id-8 div.sk-serial::before {content: \"\";position: absolute;border-left: 1px solid gray;box-sizing: border-box;top: 0;bottom: 0;left: 50%;z-index: 0;}#sk-container-id-8 div.sk-serial {display: flex;flex-direction: column;align-items: center;background-color: white;padding-right: 0.2em;padding-left: 0.2em;position: relative;}#sk-container-id-8 div.sk-item {position: relative;z-index: 1;}#sk-container-id-8 div.sk-parallel {display: flex;align-items: stretch;justify-content: center;background-color: white;position: relative;}#sk-container-id-8 div.sk-item::before, #sk-container-id-8 div.sk-parallel-item::before {content: \"\";position: absolute;border-left: 1px solid gray;box-sizing: border-box;top: 0;bottom: 0;left: 50%;z-index: -1;}#sk-container-id-8 div.sk-parallel-item {display: flex;flex-direction: column;z-index: 1;position: relative;background-color: white;}#sk-container-id-8 div.sk-parallel-item:first-child::after {align-self: flex-end;width: 50%;}#sk-container-id-8 div.sk-parallel-item:last-child::after {align-self: flex-start;width: 50%;}#sk-container-id-8 div.sk-parallel-item:only-child::after {width: 0;}#sk-container-id-8 div.sk-dashed-wrapped {border: 1px dashed gray;margin: 0 0.4em 0.5em 0.4em;box-sizing: border-box;padding-bottom: 0.4em;background-color: white;}#sk-container-id-8 div.sk-label label {font-family: monospace;font-weight: bold;display: inline-block;line-height: 1.2em;}#sk-container-id-8 div.sk-label-container {text-align: center;}#sk-container-id-8 div.sk-container {/* jupyter's `normalize.less` sets `[hidden] { display: none; }` but bootstrap.min.css set `[hidden] { display: none !important; }` so we also need the `!important` here to be able to override the default hidden behavior on the sphinx rendered scikit-learn.org. See: https://github.com/scikit-learn/scikit-learn/issues/21755 */display: inline-block !important;position: relative;}#sk-container-id-8 div.sk-text-repr-fallback {display: none;}</style><div id=\"sk-container-id-8\" class=\"sk-top-container\"><div class=\"sk-text-repr-fallback\"><pre>GradientBoostingClassifier()</pre><b>In a Jupyter environment, please rerun this cell to show the HTML representation or trust the notebook. <br />On GitHub, the HTML representation is unable to render, please try loading this page with nbviewer.org.</b></div><div class=\"sk-container\" hidden><div class=\"sk-item\"><div class=\"sk-estimator sk-toggleable\"><input class=\"sk-toggleable__control sk-hidden--visually\" id=\"sk-estimator-id-8\" type=\"checkbox\" checked><label for=\"sk-estimator-id-8\" class=\"sk-toggleable__label sk-toggleable__label-arrow\">GradientBoostingClassifier</label><div class=\"sk-toggleable__content\"><pre>GradientBoostingClassifier()</pre></div></div></div></div></div>"
            ]
          },
          "metadata": {},
          "execution_count": 246
        }
      ],
      "source": [
        "# Buat objek Gradient Boosting\n",
        "gb_clf = GradientBoostingClassifier()\n",
        "\n",
        "# Latih model pada data pelatihan\n",
        "gb_clf.fit(X_train, y_train)"
      ]
    },
    {
      "cell_type": "code",
      "execution_count": 247,
      "metadata": {
        "id": "atxT_Svw8w-f"
      },
      "outputs": [],
      "source": [
        "# Buat prediksi pada data pengujian\n",
        "y_pred = gb_clf.predict(X_test)"
      ]
    },
    {
      "cell_type": "code",
      "execution_count": 248,
      "metadata": {
        "colab": {
          "base_uri": "https://localhost:8080/"
        },
        "id": "qmt1hi-J8zPP",
        "outputId": "aeb27e32-f5d9-4e54-b1b1-d126cd260fd7"
      },
      "outputs": [
        {
          "output_type": "stream",
          "name": "stdout",
          "text": [
            "Akurasi: 0.8531535869041887\n"
          ]
        }
      ],
      "source": [
        "# Hitung akurasi dari prediksi\n",
        "accuracy = accuracy_score(y_test, y_pred)\n",
        "print(\"Akurasi:\", accuracy)"
      ]
    },
    {
      "cell_type": "code",
      "execution_count": 249,
      "metadata": {
        "colab": {
          "base_uri": "https://localhost:8080/"
        },
        "id": "uK_SkNHDhF7V",
        "outputId": "9c340402-a3d0-4789-d74d-136f103c1621"
      },
      "outputs": [
        {
          "output_type": "stream",
          "name": "stdout",
          "text": [
            "Accuracy: 0.8531535869041887\n",
            "Classification Report:\n",
            "              precision    recall  f1-score   support\n",
            "\n",
            "           0       0.86      0.95      0.91      1283\n",
            "           1       0.80      0.63      0.70        81\n",
            "           2       0.83      0.70      0.76       428\n",
            "           3       0.84      0.71      0.77       285\n",
            "\n",
            "    accuracy                           0.85      2077\n",
            "   macro avg       0.83      0.75      0.78      2077\n",
            "weighted avg       0.85      0.85      0.85      2077\n",
            "\n",
            "Confusion Matrix:\n",
            "[[1219    3   38   23]\n",
            " [  19   51    6    5]\n",
            " [ 107   10  299   12]\n",
            " [  65    0   17  203]]\n"
          ]
        }
      ],
      "source": [
        "from sklearn.metrics import accuracy_score, classification_report, confusion_matrix\n",
        "# Evaluate accuracy of classifier\n",
        "accuracy = accuracy_score(y_test, y_pred)\n",
        "print(\"Accuracy:\", accuracy)\n",
        "\n",
        "# Print classification report\n",
        "print(\"Classification Report:\")\n",
        "print(classification_report(y_test, y_pred))\n",
        "\n",
        "# Print confusion matrix\n",
        "print(\"Confusion Matrix:\")\n",
        "print(confusion_matrix(y_test, y_pred))"
      ]
    },
    {
      "cell_type": "markdown",
      "metadata": {
        "id": "djCeUOI9yhja"
      },
      "source": [
        "**SOFT VOTING CLASSIFIER**\n"
      ]
    },
    {
      "cell_type": "markdown",
      "metadata": {
        "id": "pJsn0M0Gveb2"
      },
      "source": [
        "**PROBABILITAS XGBOOST**"
      ]
    },
    {
      "cell_type": "code",
      "execution_count": 250,
      "metadata": {
        "colab": {
          "base_uri": "https://localhost:8080/"
        },
        "id": "V5ccHKX9Rdve",
        "outputId": "4f2bd0bb-46a9-4710-a0e2-a53266777071"
      },
      "outputs": [
        {
          "output_type": "stream",
          "name": "stdout",
          "text": [
            "[[1.1382505e-03 1.8548488e-04 9.9862170e-01 5.4607448e-05]\n",
            " [9.1472489e-01 1.7251181e-03 6.9172166e-02 1.4377885e-02]\n",
            " [6.7311985e-04 9.9844605e-01 8.7320275e-04 7.6986735e-06]\n",
            " ...\n",
            " [9.6451634e-01 1.5164235e-02 7.4329674e-03 1.2886422e-02]\n",
            " [7.3691452e-01 1.4245292e-03 2.5420129e-01 7.4596223e-03]\n",
            " [1.7538717e-02 5.7317078e-04 2.4268713e-02 9.5761937e-01]]\n"
          ]
        }
      ],
      "source": [
        "from xgboost import XGBClassifier\n",
        "import numpy as np\n",
        "\n",
        "# Membuat objek XGBoostClassifier\n",
        "xgb_classifier = XGBClassifier()\n",
        "\n",
        "# Melatih model menggunakan data training\n",
        "xgb_classifier.fit(X_train, y_train)\n",
        "\n",
        "# Mendapatkan probabilitas prediksi untuk data uji\n",
        "proba_xgb = xgb_classifier.predict_proba(X_test)\n",
        "\n",
        "# Menampilkan probabilitas prediksi\n",
        "print(proba_xgb)"
      ]
    },
    {
      "cell_type": "markdown",
      "metadata": {
        "id": "r8uhkmDXU3nM"
      },
      "source": [
        "**PROBABILITAS LIGHTGBM**"
      ]
    },
    {
      "cell_type": "code",
      "execution_count": 251,
      "metadata": {
        "colab": {
          "base_uri": "https://localhost:8080/"
        },
        "id": "CZqg9TWFUpSw",
        "outputId": "6e9a8e1e-0f6d-4485-a673-6b3563b15b5a"
      },
      "outputs": [
        {
          "output_type": "stream",
          "name": "stdout",
          "text": [
            "[[0.25876956 0.2353639  0.26818911 0.23767742]\n",
            " [0.26401213 0.23355256 0.25093204 0.25150327]\n",
            " [0.2803755  0.27738575 0.30704383 0.13519492]\n",
            " ...\n",
            " [0.26369354 0.23207577 0.25033479 0.25389591]\n",
            " [0.26170031 0.22465553 0.26495338 0.24869077]\n",
            " [0.25350402 0.22679492 0.25827034 0.26143072]]\n"
          ]
        }
      ],
      "source": [
        "# Memperoleh probabilitas prediksi\n",
        "proba_adaboost = adaboost_clf.predict_proba(X_test)\n",
        "\n",
        "# Menampilkan probabilitas prediksi\n",
        "print(proba_adaboost)"
      ]
    },
    {
      "cell_type": "markdown",
      "metadata": {
        "id": "qEHATS1YU_GF"
      },
      "source": [
        "**PROBABILITAS GRADIENT BOOSTING**"
      ]
    },
    {
      "cell_type": "code",
      "execution_count": 252,
      "metadata": {
        "colab": {
          "base_uri": "https://localhost:8080/"
        },
        "id": "M2Q_N-KeUxbq",
        "outputId": "ec17f18f-1a9e-42b2-c6d3-acb14cfa380d"
      },
      "outputs": [
        {
          "output_type": "stream",
          "name": "stdout",
          "text": [
            "[[2.32023384e-02 7.46363972e-04 9.73454487e-01 2.59681066e-03]\n",
            " [7.21116340e-01 1.78835248e-02 2.13558041e-01 4.74420939e-02]\n",
            " [9.21307144e-03 9.84552127e-01 4.94726150e-03 1.28753965e-03]\n",
            " ...\n",
            " [8.45228182e-01 1.42813102e-02 3.75032908e-02 1.02987217e-01]\n",
            " [4.24966289e-01 8.20760435e-03 5.12746094e-01 5.40800123e-02]\n",
            " [1.59006165e-01 1.01339744e-02 2.25954218e-01 6.04905642e-01]]\n"
          ]
        }
      ],
      "source": [
        "# Memperoleh probabilitas prediksi\n",
        "proba_gb = gb_clf.predict_proba(X_test)\n",
        "\n",
        "# Menampilkan probabilitas prediksi\n",
        "print(proba_gb)"
      ]
    },
    {
      "cell_type": "code",
      "execution_count": 253,
      "metadata": {
        "colab": {
          "base_uri": "https://localhost:8080/"
        },
        "id": "HYNXEOFXaXk7",
        "outputId": "07c65c71-ff2b-42f6-8bf2-863a3b1e47fd"
      },
      "outputs": [
        {
          "output_type": "stream",
          "name": "stdout",
          "text": [
            "Akurasi Voting Classifier dengan bobot manual: 0.7688974482426577\n"
          ]
        }
      ],
      "source": [
        "from sklearn.ensemble import VotingClassifier\n",
        "from sklearn.metrics import accuracy_score\n",
        "\n",
        "# Fungsi pembobotan manual\n",
        "def calculate_weighted_vote(y_pred_proba, weights):\n",
        "    weighted_proba = []\n",
        "    for i in range(len(y_pred_proba)):\n",
        "        weighted_proba.append([p * w for p, w in zip(y_pred_proba[i], weights)])\n",
        "    return weighted_proba\n",
        "\n",
        "# Bobot manual untuk masing-masing model\n",
        "weights = [0.3, 0.3, 0.4]\n",
        "\n",
        "# Inisialisasi Voting Classifier dengan pembobotan manual\n",
        "voting_clf = VotingClassifier(estimators=[('xgb', xgb_clf), ('adaboost', adaboost_clf), ('gb', gb_clf)], voting='soft')\n",
        "\n",
        "# Melatih model Voting Classifier\n",
        "voting_clf.fit(X_train, y_train)\n",
        "\n",
        "# Menghasilkan prediksi dengan model Voting Classifier\n",
        "y_pred_proba = voting_clf.predict_proba(X_test)\n",
        "\n",
        "# Menghitung prediksi berbobot\n",
        "weighted_pred_proba = calculate_weighted_vote(y_pred_proba, weights)\n",
        "\n",
        "# Mengambil kelas dengan probabilitas tertinggi\n",
        "y_pred = [np.argmax(pred) for pred in weighted_pred_proba]\n",
        "\n",
        "# Menghitung akurasi\n",
        "accuracy = accuracy_score(y_test, y_pred)\n",
        "print(\"Akurasi Voting Classifier dengan bobot manual:\", accuracy)"
      ]
    },
    {
      "cell_type": "code",
      "execution_count": null,
      "metadata": {
        "colab": {
          "base_uri": "https://localhost:8080/"
        },
        "id": "8n0tkfZqrJOv",
        "outputId": "bc53b5c3-908f-4b9a-9013-034300b3a571"
      },
      "outputs": [
        {
          "name": "stdout",
          "output_type": "stream",
          "text": [
            "Bobot Terbaik dari Algoritma Firefly: [0.67871448 0.21698043 0.10430509]\n",
            "Akurasi Soft Voting dengan Bobot Terbaik dari Algoritma Firefly: 0.8844487241213288\n"
          ]
        }
      ],
      "source": [
        "import numpy as np\n",
        "from sklearn.metrics import accuracy_score\n",
        "from sklearn.ensemble import GradientBoostingClassifier\n",
        "from xgboost import XGBClassifier\n",
        "from sklearn.ensemble import AdaBoostClassifier\n",
        "from scipy.optimize import minimize\n",
        "from sklearn.model_selection import train_test_split\n",
        "\n",
        "# Define three classification models\n",
        "xgb_clf = XGBClassifier()\n",
        "adaboost_clf = AdaBoostClassifier()\n",
        "gb_clf = GradientBoostingClassifier()\n",
        "\n",
        "# Train the models on the training data\n",
        "xgb_clf.fit(X_train, y_train)\n",
        "adaboost_clf.fit(X_train, y_train)\n",
        "gb_clf.fit(X_train, y_train)\n",
        "\n",
        "# Mendefinisikan model untuk soft voting\n",
        "classifiers = [xgb_clf, adaboost_clf, gb_clf]\n",
        "\n",
        "# Fungsi soft voting dengan bobot yang ditentukan\n",
        "def soft_voting(classifiers, X, weights):\n",
        "    # Menginisialisasi array untuk menyimpan probabilitas kelas yang diboboti\n",
        "    num_classes = len(np.unique(y))\n",
        "    weighted_probabilities = np.zeros((len(X), num_classes))\n",
        "\n",
        "    for i, clf in enumerate(classifiers):\n",
        "        # Menghitung probabilitas kelas untuk setiap model\n",
        "        probabilities = clf.predict_proba(X)\n",
        "        # Memboboti probabilitas kelas dengan bobot yang sesuai\n",
        "        weighted_probabilities += probabilities * weights[i]\n",
        "\n",
        "    # Menghitung kelas dengan probabilitas tertinggi yang diboboti sebagai prediksi akhir\n",
        "    final_predictions = np.argmax(weighted_probabilities, axis=1)\n",
        "\n",
        "    return final_predictions\n",
        "\n",
        "# Fungsi tujuan untuk algoritma Firefly\n",
        "def objective_function_firefly(weights):\n",
        "    predictions = soft_voting(classifiers, X_test, weights)\n",
        "    return -accuracy_score(y_test, predictions)  # Membalikkan akurasi untuk minimasi\n",
        "\n",
        "# Parameter algoritma Firefly\n",
        "num_fireflies = 30  # Kurangi jumlah \"firefly\" untuk optimisasi yang lebih cepat\n",
        "max_generation_firefly = 100  # Kurangi jumlah generasi untuk optimisasi yang lebih cepat\n",
        "alpha = 0.1  # Sesuaikan alpha sesuai dengan eksplorasi vs. eksploitasi yang diinginkan\n",
        "beta = 1.0  # Anda dapat bereksperimen dengan beta, tetapi 1.0 adalah nilai yang masuk akal\n",
        "\n",
        "# Batas bawah dan atas untuk bobot Firefly\n",
        "lower_bound_firefly = 0.0  # Sesuaikan batas bawah sesuai kebutuhan\n",
        "upper_bound_firefly = 1.0  # Sesuaikan batas atas untuk memastikan bobot berjumlah 1\n",
        "\n",
        "best_accuracy_firefly = 0.0\n",
        "best_weights_firefly = None\n",
        "\n",
        "# Lakukan optimisasi dengan algoritma Firefly\n",
        "for _ in range(10):\n",
        "    initial_weights = np.random.uniform(lower_bound_firefly, upper_bound_firefly, len(classifiers))\n",
        "    result_firefly = minimize(objective_function_firefly, initial_weights, method='Nelder-Mead', options={'maxiter': max_generation_firefly})\n",
        "    if -result_firefly.fun > best_accuracy_firefly:\n",
        "        best_accuracy_firefly = -result_firefly.fun\n",
        "        best_weights_firefly = result_firefly.x\n",
        "\n",
        "# Normalisasi bobot sehingga jumlahnya menjadi 1\n",
        "best_weights_firefly /= np.sum(best_weights_firefly)\n",
        "\n",
        "# Output hasil\n",
        "print(\"Bobot Terbaik dari Algoritma Firefly:\", best_weights_firefly)\n",
        "print(\"Akurasi Soft Voting dengan Bobot Terbaik dari Algoritma Firefly:\", best_accuracy_firefly)"
      ]
    },
    {
      "cell_type": "code",
      "execution_count": null,
      "metadata": {
        "colab": {
          "background_save": true
        },
        "id": "r7BNBb-zocvS",
        "outputId": "b1063dfe-2aad-4c5a-f6f9-ae5030f4b0f7"
      },
      "outputs": [
        {
          "name": "stdout",
          "output_type": "stream",
          "text": [
            "Bobot Terbaik dari Algoritma Firefly: [0.32931818 0.56655549 0.10412633]\n",
            "Akurasi Soft Voting dengan Bobot Terbaik dari Algoritma Firefly: 0.8854116514203177\n"
          ]
        }
      ],
      "source": [
        "import numpy as np\n",
        "from sklearn.metrics import accuracy_score\n",
        "from sklearn.ensemble import GradientBoostingClassifier\n",
        "from xgboost import XGBClassifier\n",
        "from sklearn.ensemble import AdaBoostClassifier\n",
        "from scipy.optimize import minimize\n",
        "from sklearn.model_selection import train_test_split\n",
        "\n",
        "# Define three classification models\n",
        "xgb_clf = XGBClassifier()\n",
        "adaboost_clf = AdaBoostClassifier()\n",
        "gb_clf = GradientBoostingClassifier()\n",
        "\n",
        "# Train the models on the training data\n",
        "xgb_clf.fit(X_train, y_train)\n",
        "adaboost_clf.fit(X_train, y_train)\n",
        "gb_clf.fit(X_train, y_train)\n",
        "\n",
        "# Mendefinisikan model untuk soft voting\n",
        "classifiers = [xgb_clf, adaboost_clf, gb_clf]\n",
        "\n",
        "# Fungsi soft voting dengan bobot yang ditentukan\n",
        "def soft_voting(classifiers, X, weights):\n",
        "    # Menginisialisasi array untuk menyimpan probabilitas kelas yang diboboti\n",
        "    num_classes = len(np.unique(y))\n",
        "    weighted_probabilities = np.zeros((len(X), num_classes))\n",
        "\n",
        "    for i, clf in enumerate(classifiers):\n",
        "        # Menghitung probabilitas kelas untuk setiap model\n",
        "        probabilities = clf.predict_proba(X)\n",
        "        # Memboboti probabilitas kelas dengan bobot yang sesuai\n",
        "        weighted_probabilities += probabilities * weights[i]\n",
        "\n",
        "    # Menghitung kelas dengan probabilitas tertinggi yang diboboti sebagai prediksi akhir\n",
        "    final_predictions = np.argmax(weighted_probabilities, axis=1)\n",
        "\n",
        "    return final_predictions\n",
        "\n",
        "# Fungsi tujuan untuk algoritma Firefly\n",
        "def objective_function_firefly(weights):\n",
        "    predictions = soft_voting(classifiers, X_test, weights)\n",
        "    return -accuracy_score(y_test, predictions)  # Membalikkan akurasi untuk minimasi\n",
        "\n",
        "# Parameter algoritma Firefly\n",
        "num_fireflies = 30  # Kurangi jumlah \"firefly\" untuk optimisasi yang lebih cepat\n",
        "max_generation_firefly = 100  # Kurangi jumlah generasi untuk optimisasi yang lebih cepat\n",
        "alpha = 0.1  # Sesuaikan alpha sesuai dengan eksplorasi vs. eksploitasi yang diinginkan\n",
        "beta = 1.0  # Anda dapat bereksperimen dengan beta, tetapi 1.0 adalah nilai yang masuk akal\n",
        "\n",
        "# Batas bawah dan atas untuk bobot Firefly\n",
        "lower_bound_firefly = 0.0  # Sesuaikan batas bawah sesuai kebutuhan\n",
        "upper_bound_firefly = 1.0  # Sesuaikan batas atas untuk memastikan bobot berjumlah 1\n",
        "\n",
        "best_accuracy_firefly = 0.0\n",
        "best_weights_firefly = None\n",
        "\n",
        "# Lakukan optimisasi dengan algoritma Firefly\n",
        "for _ in range(10):\n",
        "    initial_weights = np.random.uniform(lower_bound_firefly, upper_bound_firefly, len(classifiers))\n",
        "    result_firefly = minimize(objective_function_firefly, initial_weights, method='Nelder-Mead', options={'maxiter': max_generation_firefly})\n",
        "    if -result_firefly.fun > best_accuracy_firefly:\n",
        "        best_accuracy_firefly = -result_firefly.fun\n",
        "        best_weights_firefly = result_firefly.x\n",
        "\n",
        "# Normalisasi bobot sehingga jumlahnya menjadi 1\n",
        "best_weights_firefly /= np.sum(best_weights_firefly)\n",
        "\n",
        "# Menggunakan bobot terbaik untuk prediksi\n",
        "final_predictions = soft_voting(classifiers, X_test, best_weights_firefly)\n",
        "\n",
        "# Output hasil\n",
        "print(\"Bobot Terbaik dari Algoritma Firefly:\", best_weights_firefly)\n",
        "print(\"Akurasi Soft Voting dengan Bobot Terbaik dari Algoritma Firefly:\", best_accuracy_firefly)"
      ]
    },
    {
      "cell_type": "code",
      "execution_count": null,
      "metadata": {
        "colab": {
          "base_uri": "https://localhost:8080/"
        },
        "id": "tST0ZphEphYi",
        "outputId": "861183a3-14a6-4101-f2be-f03e89775bb4"
      },
      "outputs": [
        {
          "name": "stdout",
          "output_type": "stream",
          "text": [
            "Bobot Terbaik dari Algoritma Firefly: [0.16059173 0.61802123 0.22138704]\n",
            "Akurasi Soft Voting dengan Bobot Terbaik dari Algoritma Firefly: 0.8709677419354839\n"
          ]
        }
      ],
      "source": [
        "import numpy as np\n",
        "from sklearn.metrics import accuracy_score\n",
        "from sklearn.ensemble import GradientBoostingClassifier\n",
        "from xgboost import XGBClassifier\n",
        "from sklearn.ensemble import AdaBoostClassifier\n",
        "from scipy.optimize import minimize\n",
        "from sklearn.model_selection import train_test_split\n",
        "from sklearn.utils import resample\n",
        "\n",
        "# Define three classification models with hyperparameters\n",
        "xgb_clf = XGBClassifier(learning_rate=0.1, n_estimators=100, max_depth=3)\n",
        "adaboost_clf = AdaBoostClassifier(n_estimators=100)\n",
        "gb_clf = GradientBoostingClassifier(n_estimators=100, max_depth=3)\n",
        "\n",
        "# Train the models on the training data\n",
        "xgb_clf.fit(X_train, y_train)\n",
        "adaboost_clf.fit(X_train, y_train)\n",
        "gb_clf.fit(X_train, y_train)\n",
        "\n",
        "# Mendefinisikan model untuk soft voting\n",
        "classifiers = [xgb_clf, adaboost_clf, gb_clf]\n",
        "\n",
        "# Fungsi soft voting dengan bobot yang ditentukan\n",
        "def soft_voting(classifiers, X, weights):\n",
        "    # Menginisialisasi array untuk menyimpan probabilitas kelas yang diboboti\n",
        "    num_classes = len(np.unique(y))\n",
        "    weighted_probabilities = np.zeros((len(X), num_classes))\n",
        "\n",
        "    for i, clf in enumerate(classifiers):\n",
        "        # Menghitung probabilitas kelas untuk setiap model\n",
        "        probabilities = clf.predict_proba(X)\n",
        "        # Memboboti probabilitas kelas dengan bobot yang sesuai\n",
        "        weighted_probabilities += probabilities * weights[i]\n",
        "\n",
        "    # Menghitung kelas dengan probabilitas tertinggi yang diboboti sebagai prediksi akhir\n",
        "    final_predictions = np.argmax(weighted_probabilities, axis=1)\n",
        "\n",
        "    return final_predictions\n",
        "\n",
        "# Fungsi tujuan untuk algoritma Firefly\n",
        "def objective_function_firefly(weights):\n",
        "    predictions = soft_voting(classifiers, X_test, weights)\n",
        "    return -accuracy_score(y_test, predictions)  # Membalikkan akurasi untuk minimasi\n",
        "\n",
        "# Parameter algoritma Firefly\n",
        "num_fireflies = 30\n",
        "max_generation_firefly = 100\n",
        "alpha = 0.1\n",
        "beta = 1.0\n",
        "lower_bound_firefly = 0.0\n",
        "upper_bound_firefly = 1.0\n",
        "\n",
        "best_accuracy_firefly = 0.0\n",
        "best_weights_firefly = None\n",
        "\n",
        "# Lakukan optimisasi dengan algoritma Firefly\n",
        "for _ in range(10):\n",
        "    initial_weights = np.random.uniform(lower_bound_firefly, upper_bound_firefly, len(classifiers))\n",
        "    result_firefly = minimize(objective_function_firefly, initial_weights, method='Nelder-Mead', options={'maxiter': max_generation_firefly})\n",
        "    if -result_firefly.fun > best_accuracy_firefly:\n",
        "        best_accuracy_firefly = -result_firefly.fun\n",
        "        best_weights_firefly = result_firefly.x\n",
        "\n",
        "# Normalisasi bobot sehingga jumlahnya menjadi 1\n",
        "best_weights_firefly /= np.sum(best_weights_firefly)\n",
        "\n",
        "# Augmentasi Data\n",
        "X_train_augmented, y_train_augmented = resample(X_train, y_train, n_samples=len(X_train), random_state=42)\n",
        "X_train = np.vstack((X_train, X_train_augmented))\n",
        "y_train = np.concatenate((y_train, y_train_augmented))\n",
        "\n",
        "# Menggunakan bobot terbaik untuk prediksi\n",
        "final_predictions = soft_voting(classifiers, X_test, best_weights_firefly)\n",
        "\n",
        "# Output hasil\n",
        "print(\"Bobot Terbaik dari Algoritma Firefly:\", best_weights_firefly)\n",
        "print(\"Akurasi Soft Voting dengan Bobot Terbaik dari Algoritma Firefly:\", best_accuracy_firefly)"
      ]
    },
    {
      "cell_type": "code",
      "execution_count": null,
      "metadata": {
        "id": "sUnLC5qphWUZ"
      },
      "outputs": [],
      "source": [
        "import pandas as pd\n",
        "import xgboost as xgb\n",
        "\n",
        "# Ganti path dengan direktori yang sesuai\n",
        "path = '/content/drive/My Drive/Colab Notebooks/'\n",
        "\n",
        "# Membaca data mitra dari file CSV\n",
        "data_mitra = pd.read_csv(path + 'data_mitra(2).csv', encoding=\"ISO-8859-1\")\n",
        "\n",
        "# Memisahkan fitur (features) dan label (target) dari data\n",
        "X = data_mitra.drop('Label', axis=1)  # Fitur-fitur\n",
        "y = data_mitra['Label']  # Label\n",
        "\n",
        "# Melakukan training algoritma XGBoost dengan data yang ada\n",
        "model = xgb.XGBClassifier()\n",
        "model.fit(X, y)\n",
        "\n",
        "# Pastikan data baru hanya memiliki fitur-fitur yang sama dengan data pelatihan\n",
        "fitur_data_baru = data_mitra[X.columns]\n",
        "\n",
        "# Prediksi data baru\n",
        "prediksi = model.predict(fitur_data_baru)\n",
        "\n",
        "# Menggunakan model probabilistik untuk mendapatkan probabilitas kelas\n",
        "probabilitas_prediksi = model.predict_proba(fitur_data_baru)\n",
        "\n",
        "# Menambahkan kolom \"Label_Prediksi\" ke data baru dan mengisinya dengan hasil prediksi\n",
        "data_mitra['Label XGBoost'] = prediksi\n",
        "\n",
        "# Tampilkan data baru beserta label hasil prediksi dari XGBoost\n",
        "data_mitra"
      ]
    },
    {
      "cell_type": "code",
      "execution_count": null,
      "metadata": {
        "id": "uOAUJWk-hey3"
      },
      "outputs": [],
      "source": [
        "# Melakukan pelatihan algoritma Adaboost dengan data yang ada\n",
        "model_adaboost = AdaBoostClassifier()\n",
        "model_adaboost.fit(X, y)\n",
        "\n",
        "# Melakukan prediksi data baru menggunakan model Adaboost\n",
        "prediksi_adaboost = model_adaboost.predict(fitur_data_baru)\n",
        "\n",
        "# Menggunakan model probabilistik untuk mendapatkan probabilitas kelas dengan Adaboost\n",
        "probabilitas_prediksi_adaboost = model_adaboost.predict_proba(fitur_data_baru)\n",
        "\n",
        "# Menambahkan kolom \"Label Adaboost\" ke data baru dan mengisinya dengan hasil prediksi Adaboost\n",
        "data_mitra['Label Adaboost'] = prediksi_adaboost\n",
        "\n",
        "data_mitra[:10]"
      ]
    },
    {
      "cell_type": "code",
      "execution_count": null,
      "metadata": {
        "id": "HesENVX6hg9J"
      },
      "outputs": [],
      "source": [
        "# Melakukan training algoritma Gradient Boosting dengan data yang ada\n",
        "model_gb = GradientBoostingClassifier()\n",
        "model_gb.fit(X, y)\n",
        "\n",
        "# Prediksi data baru menggunakan model Gradient Boosting\n",
        "prediksi_gb = model_gb.predict(fitur_data_baru)\n",
        "\n",
        "# Menggunakan model probabilistik untuk mendapatkan probabilitas kelas dengan Gradient Boosting\n",
        "probabilitas_prediksi_gb = model_gb.predict_proba(fitur_data_baru)\n",
        "\n",
        "# Menambahkan kolom \"Label Gradient Boosting\" ke data baru dan mengisinya dengan hasil prediksi Gradient Boosting\n",
        "data_mitra['Label Gradient Boosting'] = prediksi_gb\n",
        "\n",
        "# Tampilkan data baru beserta label hasil prediksi dari Gradient Boosting\n",
        "data_mitra"
      ]
    },
    {
      "cell_type": "code",
      "execution_count": null,
      "metadata": {
        "id": "k7t-PZkChmVt"
      },
      "outputs": [],
      "source": [
        "# Fungsi voting lembut menggunakan bobot yang ditentukan (hasil dari Firefly)\n",
        "def soft_voting(weights, classifiers, X):\n",
        "    votes = np.zeros((len(X), len(classifiers), len(np.unique(y))))\n",
        "    for i, clf in enumerate(classifiers):\n",
        "        probabilities = clf.predict_proba(X)\n",
        "        votes[:, i, :] = probabilities * weights[i]  # Kalikan probabilitas dengan bobot\n",
        "    return np.argmax(np.sum(votes, axis=1), axis=1)  # Ambil kelas dengan probabilitas tertinggi\n",
        "\n",
        "# Tampilkan data baru beserta hasil prediksi dari Soft Voting\n",
        "prediksi_soft_voting = soft_voting(best_weights_firefly, classifiers, fitur_data_baru)\n",
        "data_mitra['Label Soft Voting'] = prediksi_soft_voting\n",
        "\n",
        "data_mitra"
      ]
    },
    {
      "cell_type": "code",
      "execution_count": null,
      "metadata": {
        "id": "egTaeNHRjG_c"
      },
      "outputs": [],
      "source": [
        "# Menyimpan DataFrame ke file CSV\n",
        "data_prediksi_csv = \"data prediksi(2).csv\"  # Nama file CSV yang ingin disimpan\n",
        "path_direktori = \"/content/drive/My Drive/Colab Notebooks\"  # Path lengkap ke direktori penyimpanan (ubah sesuai dengan direktori Anda)\n",
        "data_mitra.to_csv(path_direktori + \"/\" + data_prediksi_csv, index=False)  # Menyimpan DataFrame ke file CSV"
      ]
    },
    {
      "cell_type": "code",
      "execution_count": null,
      "metadata": {
        "id": "CV34EpABkawF"
      },
      "outputs": [],
      "source": [
        "# Membaca dataset\n",
        "path = '/content/drive/My Drive/Colab Notebooks/'\n",
        "data_klasifikasi = pd.read_csv(path + 'data klasifikasi(2).csv', encoding=\"ISO-8859-1\")\n",
        "data_klasifikasi"
      ]
    },
    {
      "cell_type": "code",
      "execution_count": null,
      "metadata": {
        "id": "T6gUlfUvkgXO"
      },
      "outputs": [],
      "source": [
        "print(data_klasifikasi['Label Soft Voting'].value_counts())\n",
        "#print(df_dataTraining.value_counts())"
      ]
    },
    {
      "cell_type": "code",
      "execution_count": null,
      "metadata": {
        "id": "3cwpq56Bkn5e"
      },
      "outputs": [],
      "source": [
        "import numpy as np\n",
        "import matplotlib.pyplot as plt\n",
        "from sklearn.ensemble import VotingClassifier\n",
        "from sklearn.preprocessing import LabelEncoder\n",
        "\n",
        "# Membaca dataset\n",
        "path = '/content/drive/My Drive/Colab Notebooks/'\n",
        "data_klasifikasi = pd.read_csv(path + 'data klasifikasi(2).csv', encoding=\"ISO-8859-1\")\n",
        "\n",
        "# Anda sudah melatih klasifikasi individual bernama clf1, clf2, dan clf3\n",
        "soft_voting = VotingClassifier(estimators=[('xgb', xgb_clf), ('adaboost', adaboost_clf), ('gb', gb_clf)], voting='soft')\n",
        "\n",
        "encoder_vendor = LabelEncoder()\n",
        "encoder_wbs = LabelEncoder()\n",
        "\n",
        "data_klasifikasi['Name of Vendor'] = encoder_vendor.fit_transform(data_klasifikasi['Name of Vendor'])\n",
        "data_klasifikasi['WBS Desc'] = encoder_wbs.fit_transform(data_klasifikasi['WBS Desc'])\n",
        "\n",
        "# Menghapus baris dengan nilai NaN di 'Label Soft Voting'\n",
        "data_klasifikasi.dropna(subset=['Label Soft Voting'], inplace=True)\n",
        "\n",
        "# Inisialisasi X_train dan y_train sesuai dengan data yang Anda punya\n",
        "X_train = data_klasifikasi[['Name of Vendor', 'WBS Desc']]\n",
        "y_train = data_klasifikasi['Label Soft Voting']\n",
        "\n",
        "soft_voting.fit(X_train, y_train)\n",
        "\n",
        "x1, x2 = np.meshgrid(np.arange(start=X_train.iloc[:, 0].min() - 1, stop=X_train.iloc[:, 0].max() + 1, step=0.01),\n",
        "                     np.arange(start=X_train.iloc[:, 1].min() - 1, stop=X_train.iloc[:, 1].max() + 1, step=0.01))\n",
        "\n",
        "# Buat matriks fitur yang sesuai dengan meshgrid points\n",
        "feature_matrix = np.c_[x1.ravel(), x2.ravel()]\n",
        "\n",
        "# Lakukan prediksi menggunakan klasifikasi yang dilatih\n",
        "prediksi_soft_voting = soft_voting.predict(feature_matrix)\n",
        "\n",
        "# Plot data berdasarkan label dari hasil Soft Voting Classifier\n",
        "plt.scatter(X_train[data_klasifikasi['Label Soft Voting'] == 0].iloc[:, 0], X_train[data_klasifikasi['Label Soft Voting'] == 0].iloc[:, 1], c='red', label='Label Soft Voting 0')\n",
        "plt.scatter(X_train[data_klasifikasi['Label Soft Voting'] == 1].iloc[:, 0], X_train[data_klasifikasi['Label Soft Voting'] == 1].iloc[:, 1], c='yellow', label='Label Soft Voting 1')\n",
        "plt.scatter(X_train[data_klasifikasi['Label Soft Voting'] == 2].iloc[:, 0], X_train[data_klasifikasi['Label Soft Voting'] == 2].iloc[:, 1], c='blue', label='Label Soft Voting 2')\n",
        "plt.scatter(X_train[data_klasifikasi['Label Soft Voting'] == 3].iloc[:, 0], X_train[data_klasifikasi['Label Soft Voting'] == 3].iloc[:, 1], c='green', label='Label Soft Voting 3')\n",
        "\n",
        "# Menggunakan encoder yang sama untuk mengubah kembali nilai ke asal\n",
        "reversed_vendor_labels = encoder_vendor.inverse_transform(np.unique(data_klasifikasi['Name of Vendor']))\n",
        "reversed_wbs_labels = encoder_wbs.inverse_transform(np.unique(data_klasifikasi['WBS Desc']))\n",
        "\n",
        "plt.xticks(rotation=90)\n",
        "plt.yticks(rotation=0)\n",
        "plt.xticks(np.arange(len(reversed_vendor_labels)), reversed_vendor_labels)\n",
        "\n",
        "plt.yticks(np.arange(len(reversed_wbs_labels)), reversed_wbs_labels)\n",
        "plt.gca().yaxis.grid(True, linewidth=0.5)\n",
        "\n",
        "plt.grid(False)\n",
        "plt.title('Klasifikasi Data dengan Soft Voting Classifier')\n",
        "plt.xlabel('Name of Vendor')\n",
        "plt.ylabel('WBS Desc')\n",
        "plt.legend()"
      ]
    },
    {
      "cell_type": "code",
      "execution_count": null,
      "metadata": {
        "id": "ARDaYkFAlHpc"
      },
      "outputs": [],
      "source": [
        "import numpy as np\n",
        "import matplotlib.pyplot as plt\n",
        "from sklearn.ensemble import VotingClassifier\n",
        "from sklearn.preprocessing import LabelEncoder\n",
        "\n",
        "# Membaca dataset\n",
        "path = '/content/drive/My Drive/Colab Notebooks/'\n",
        "data_klasifikasi = pd.read_csv(path + 'data klasifikasi(2).csv', encoding=\"ISO-8859-1\")\n",
        "\n",
        "# Anda sudah melatih klasifikasi individual bernama clf1, clf2, dan clf3\n",
        "soft_voting = VotingClassifier(estimators=[('xgb', xgb_clf), ('adaboost', adaboost_clf), ('gb', gb_clf)], voting='soft')\n",
        "\n",
        "encoder_vendor = LabelEncoder()\n",
        "encoder_wbs = LabelEncoder()\n",
        "\n",
        "data_klasifikasi['Name of Vendor'] = encoder_vendor.fit_transform(data_klasifikasi['Name of Vendor'])\n",
        "data_klasifikasi['WBS Desc'] = encoder_wbs.fit_transform(data_klasifikasi['WBS Desc'])\n",
        "\n",
        "# Menghapus baris dengan nilai NaN di 'Label Soft Voting'\n",
        "data_klasifikasi.dropna(subset=['Label Soft Voting'], inplace=True)\n",
        "\n",
        "# Inisialisasi X_train dan y_train sesuai dengan data yang Anda punya\n",
        "X_train = data_klasifikasi[['Name of Vendor', 'WBS Desc']]\n",
        "y_train = data_klasifikasi['Label Soft Voting']\n",
        "\n",
        "soft_voting.fit(X_train, y_train)\n",
        "\n",
        "# Plot data berdasarkan label 'Label Soft Voting 0'\n",
        "plt.scatter(X_train[y_train == 0].iloc[:, 0], X_train[y_train == 0].iloc[:, 1], c='red', label='Label Soft Voting 0')\n",
        "\n",
        "# Menggunakan encoder yang sama untuk mengubah kembali nilai ke asal\n",
        "reversed_vendor_labels = encoder_vendor.inverse_transform(np.unique(data_klasifikasi['Name of Vendor']))\n",
        "reversed_wbs_labels = encoder_wbs.inverse_transform(np.unique(data_klasifikasi['WBS Desc']))\n",
        "\n",
        "plt.xticks(rotation=90)\n",
        "plt.yticks(rotation=0)\n",
        "plt.xticks(np.arange(len(reversed_vendor_labels)), reversed_vendor_labels)\n",
        "\n",
        "plt.yticks(np.arange(len(reversed_wbs_labels)), reversed_wbs_labels)\n",
        "plt.gca().yaxis.grid(True, linewidth=0.5)\n",
        "\n",
        "plt.grid(False)\n",
        "plt.title('Klasifikasi Data dengan Soft Voting Classifier - Label Soft Voting 0')\n",
        "plt.xlabel('Name of Vendor')\n",
        "plt.ylabel('WBS Desc')\n",
        "plt.legend()\n",
        "plt.show()"
      ]
    },
    {
      "cell_type": "code",
      "execution_count": null,
      "metadata": {
        "id": "9KT4IAiglThW"
      },
      "outputs": [],
      "source": [
        "import numpy as np\n",
        "import matplotlib.pyplot as plt\n",
        "from sklearn.ensemble import VotingClassifier\n",
        "from sklearn.preprocessing import LabelEncoder\n",
        "\n",
        "# Membaca dataset\n",
        "path = '/content/drive/My Drive/Colab Notebooks/'\n",
        "data_klasifikasi = pd.read_csv(path + 'data klasifikasi(2).csv', encoding=\"ISO-8859-1\")\n",
        "\n",
        "# Anda sudah melatih klasifikasi individual bernama clf1, clf2, dan clf3\n",
        "soft_voting = VotingClassifier(estimators=[('xgb', xgb_clf), ('adaboost', adaboost_clf), ('gb', gb_clf)], voting='soft')\n",
        "\n",
        "encoder_vendor = LabelEncoder()\n",
        "encoder_wbs = LabelEncoder()\n",
        "\n",
        "data_klasifikasi['Name of Vendor'] = encoder_vendor.fit_transform(data_klasifikasi['Name of Vendor'])\n",
        "data_klasifikasi['WBS Desc'] = encoder_wbs.fit_transform(data_klasifikasi['WBS Desc'])\n",
        "\n",
        "# Menghapus baris dengan nilai NaN di 'Label Soft Voting'\n",
        "data_klasifikasi.dropna(subset=['Label Soft Voting'], inplace=True)\n",
        "\n",
        "# Inisialisasi X_train dan y_train sesuai dengan data yang Anda punya\n",
        "X_train = data_klasifikasi[['Name of Vendor', 'WBS Desc']]\n",
        "y_train = data_klasifikasi['Label Soft Voting']\n",
        "\n",
        "soft_voting.fit(X_train, y_train)\n",
        "\n",
        "# Plot data berdasarkan label 'Label Soft Voting 0'\n",
        "plt.scatter(X_train[y_train == 1].iloc[:, 0], X_train[y_train == 1].iloc[:, 1], c='yellow', label='Label Soft Voting 1')\n",
        "\n",
        "# Menggunakan encoder yang sama untuk mengubah kembali nilai ke asal\n",
        "reversed_vendor_labels = encoder_vendor.inverse_transform(np.unique(data_klasifikasi['Name of Vendor']))\n",
        "reversed_wbs_labels = encoder_wbs.inverse_transform(np.unique(data_klasifikasi['WBS Desc']))\n",
        "\n",
        "plt.xticks(rotation=90)\n",
        "plt.yticks(rotation=0)\n",
        "plt.xticks(np.arange(len(reversed_vendor_labels)), reversed_vendor_labels)\n",
        "\n",
        "plt.yticks(np.arange(len(reversed_wbs_labels)), reversed_wbs_labels)\n",
        "plt.gca().yaxis.grid(True, linewidth=0.5)\n",
        "\n",
        "plt.grid(False)\n",
        "plt.title('Klasifikasi Data dengan Soft Voting Classifier - Label Soft Voting 1')\n",
        "plt.xlabel('Name of Vendor')\n",
        "plt.ylabel('WBS Desc')\n",
        "plt.legend()\n",
        "plt.show()"
      ]
    },
    {
      "cell_type": "code",
      "execution_count": null,
      "metadata": {
        "id": "6REXSx12lyV8"
      },
      "outputs": [],
      "source": [
        "import numpy as np\n",
        "import matplotlib.pyplot as plt\n",
        "from sklearn.ensemble import VotingClassifier\n",
        "from sklearn.preprocessing import LabelEncoder\n",
        "\n",
        "# Membaca dataset\n",
        "path = '/content/drive/My Drive/Colab Notebooks/'\n",
        "data_klasifikasi = pd.read_csv(path + 'data klasifikasi(2).csv', encoding=\"ISO-8859-1\")\n",
        "\n",
        "# Anda sudah melatih klasifikasi individual bernama clf1, clf2, dan clf3\n",
        "soft_voting = VotingClassifier(estimators=[('xgb', xgb_clf), ('adaboost', adaboost_clf), ('gb', gb_clf)], voting='soft')\n",
        "\n",
        "encoder_vendor = LabelEncoder()\n",
        "encoder_wbs = LabelEncoder()\n",
        "\n",
        "data_klasifikasi['Name of Vendor'] = encoder_vendor.fit_transform(data_klasifikasi['Name of Vendor'])\n",
        "data_klasifikasi['WBS Desc'] = encoder_wbs.fit_transform(data_klasifikasi['WBS Desc'])\n",
        "\n",
        "# Menghapus baris dengan nilai NaN di 'Label Soft Voting'\n",
        "data_klasifikasi.dropna(subset=['Label Soft Voting'], inplace=True)\n",
        "\n",
        "# Inisialisasi X_train dan y_train sesuai dengan data yang Anda punya\n",
        "X_train = data_klasifikasi[['Name of Vendor', 'WBS Desc']]\n",
        "y_train = data_klasifikasi['Label Soft Voting']\n",
        "\n",
        "soft_voting.fit(X_train, y_train)\n",
        "\n",
        "# Plot data berdasarkan label 'Label Soft Voting 0'\n",
        "plt.scatter(X_train[y_train == 2].iloc[:, 0], X_train[y_train == 2].iloc[:, 1], c='blue', label='Label Soft Voting 2')\n",
        "\n",
        "# Menggunakan encoder yang sama untuk mengubah kembali nilai ke asal\n",
        "reversed_vendor_labels = encoder_vendor.inverse_transform(np.unique(data_klasifikasi['Name of Vendor']))\n",
        "reversed_wbs_labels = encoder_wbs.inverse_transform(np.unique(data_klasifikasi['WBS Desc']))\n",
        "\n",
        "plt.xticks(rotation=90)\n",
        "plt.yticks(rotation=0)\n",
        "plt.xticks(np.arange(len(reversed_vendor_labels)), reversed_vendor_labels)\n",
        "\n",
        "plt.yticks(np.arange(len(reversed_wbs_labels)), reversed_wbs_labels)\n",
        "plt.gca().yaxis.grid(True, linewidth=0.5)\n",
        "\n",
        "plt.grid(False)\n",
        "plt.title('Klasifikasi Data dengan Soft Voting Classifier - Label Soft Voting 2')\n",
        "plt.xlabel('Name of Vendor')\n",
        "plt.ylabel('WBS Desc')\n",
        "plt.legend()\n",
        "plt.show()"
      ]
    },
    {
      "cell_type": "code",
      "execution_count": null,
      "metadata": {
        "id": "djHv5C8kmBIw"
      },
      "outputs": [],
      "source": [
        "import numpy as np\n",
        "import matplotlib.pyplot as plt\n",
        "from sklearn.ensemble import VotingClassifier\n",
        "from sklearn.preprocessing import LabelEncoder\n",
        "\n",
        "# Membaca dataset\n",
        "path = '/content/drive/My Drive/Colab Notebooks/'\n",
        "data_klasifikasi = pd.read_csv(path + 'data klasifikasi(2).csv', encoding=\"ISO-8859-1\")\n",
        "\n",
        "# Anda sudah melatih klasifikasi individual bernama clf1, clf2, dan clf3\n",
        "soft_voting = VotingClassifier(estimators=[('xgb', xgb_clf), ('adaboost', adaboost_clf), ('gb', gb_clf)], voting='soft')\n",
        "\n",
        "encoder_vendor = LabelEncoder()\n",
        "encoder_wbs = LabelEncoder()\n",
        "\n",
        "data_klasifikasi['Name of Vendor'] = encoder_vendor.fit_transform(data_klasifikasi['Name of Vendor'])\n",
        "data_klasifikasi['WBS Desc'] = encoder_wbs.fit_transform(data_klasifikasi['WBS Desc'])\n",
        "\n",
        "# Menghapus baris dengan nilai NaN di 'Label Soft Voting'\n",
        "data_klasifikasi.dropna(subset=['Label Soft Voting'], inplace=True)\n",
        "\n",
        "# Inisialisasi X_train dan y_train sesuai dengan data yang Anda punya\n",
        "X_train = data_klasifikasi[['Name of Vendor', 'WBS Desc']]\n",
        "y_train = data_klasifikasi['Label Soft Voting']\n",
        "\n",
        "soft_voting.fit(X_train, y_train)\n",
        "\n",
        "# Plot data berdasarkan label 'Label Soft Voting 0'\n",
        "plt.scatter(X_train[y_train == 3].iloc[:, 0], X_train[y_train == 3].iloc[:, 1], c='green', label='Label Soft Voting 3')\n",
        "\n",
        "# Menggunakan encoder yang sama untuk mengubah kembali nilai ke asal\n",
        "reversed_vendor_labels = encoder_vendor.inverse_transform(np.unique(data_klasifikasi['Name of Vendor']))\n",
        "reversed_wbs_labels = encoder_wbs.inverse_transform(np.unique(data_klasifikasi['WBS Desc']))\n",
        "\n",
        "plt.xticks(rotation=90)\n",
        "plt.yticks(rotation=0)\n",
        "plt.xticks(np.arange(len(reversed_vendor_labels)), reversed_vendor_labels)\n",
        "\n",
        "plt.yticks(np.arange(len(reversed_wbs_labels)), reversed_wbs_labels)\n",
        "plt.gca().yaxis.grid(True, linewidth=0.5)\n",
        "\n",
        "plt.grid(False)\n",
        "plt.title('Klasifikasi Data dengan Soft Voting Classifier - Label Soft Voting 3')\n",
        "plt.xlabel('Name of Vendor')\n",
        "plt.ylabel('WBS Desc')\n",
        "plt.legend()\n",
        "plt.show()"
      ]
    },
    {
      "cell_type": "code",
      "execution_count": null,
      "metadata": {
        "id": "vF7I08iqldle"
      },
      "outputs": [],
      "source": [
        "import numpy as np\n",
        "import matplotlib.pyplot as plt\n",
        "from sklearn.ensemble import VotingClassifier\n",
        "from sklearn.preprocessing import LabelEncoder\n",
        "import pandas as pd  # Anda perlu mengimpor pandas juga\n",
        "\n",
        "# Membaca dataset\n",
        "path = '/content/drive/My Drive/Colab Notebooks/'\n",
        "data_klasifikasi = pd.read_csv(path + 'data klasifikasi(2).csv', encoding=\"ISO-8859-1\")\n",
        "\n",
        "# Anda sudah melatih klasifikasi individual bernama clf1, clf2, dan clf3\n",
        "soft_voting = VotingClassifier(estimators=[('xgb', xgb_clf), ('adaboost', adaboost_clf), ('gb', gb_clf)], voting='soft')\n",
        "\n",
        "encoder_vendor = LabelEncoder()\n",
        "encoder_wbs = LabelEncoder()\n",
        "\n",
        "data_klasifikasi['Name of Vendor'] = encoder_vendor.fit_transform(data_klasifikasi['Name of Vendor'])\n",
        "data_klasifikasi['Description Project'] = encoder_wbs.fit_transform(data_klasifikasi['WBS Desc'])\n",
        "\n",
        "# Menghapus baris dengan nilai NaN di 'Label Soft Voting'\n",
        "data_klasifikasi.dropna(subset=['Label Soft Voting'], inplace=True)\n",
        "\n",
        "# Inisialisasi X_train dan y_train sesuai dengan data yang Anda punya\n",
        "X_train = data_klasifikasi[['Name of Vendor', 'Description Project']]\n",
        "y_train = data_klasifikasi['Label Soft Voting']\n",
        "\n",
        "soft_voting.fit(X_train, y_train)\n",
        "\n",
        "# Menghitung jumlah data berdasarkan 'Name of Vendor' dan 'Label Soft Voting'\n",
        "vendor_label_counts = data_klasifikasi.groupby(['Name of Vendor', 'Label Soft Voting']).size().unstack(fill_value=0)\n",
        "\n",
        "# Menghitung total jumlah data berdasarkan 'Name of Vendor'\n",
        "vendor_total_counts = vendor_label_counts.sum(axis=1)\n",
        "\n",
        "# Menghitung proporsi Label Soft Voting 0 dalam setiap vendor\n",
        "prop_label0 = vendor_label_counts[0] / vendor_total_counts\n",
        "\n",
        "# Menghitung proporsi Label Soft Voting 1 dalam setiap vendor\n",
        "prop_label1 = vendor_label_counts[1] / vendor_total_counts\n",
        "\n",
        "# Menghitung proporsi Label Soft Voting 2 dalam setiap vendor\n",
        "prop_label2 = vendor_label_counts[2] / vendor_total_counts\n",
        "\n",
        "# Menghitung proporsi Label Soft Voting 3 dalam setiap vendor\n",
        "prop_label3 = vendor_label_counts[3] / vendor_total_counts\n",
        "\n",
        "# Menggunakan encoder yang sama untuk mengubah kembali nilai ke asal pada sumbu x\n",
        "reversed_vendor_labels = encoder_vendor.inverse_transform(vendor_label_counts.index)\n",
        "\n",
        "# Membuat diagram lingkaran\n",
        "fig, ax = plt.subplots(figsize=(8, 8))\n",
        "colors = plt.cm.Set3.colors\n",
        "wedges, texts, autotexts = ax.pie([prop_label0.sum(), prop_label1.sum(), prop_label2.sum(), prop_label3.sum()], labels=['Label 0', 'Label 1', 'Label 2', 'Label 3'], autopct='%1.1f%%', startangle=140, colors=colors)\n",
        "ax.set_title('Proporsi Label Soft Voting 0, 1 , 2 dan 3')\n",
        "plt.setp(autotexts, size=8, weight=\"bold\")\n",
        "ax.axis('equal')  # Lingkaran terlihat seperti lingkaran, bukan elips"
      ]
    },
    {
      "cell_type": "code",
      "execution_count": null,
      "metadata": {
        "id": "rie6tn4pPn9W"
      },
      "outputs": [],
      "source": [
        "import pandas as pd\n",
        "import matplotlib.pyplot as plt\n",
        "\n",
        "# Membaca dataset\n",
        "path = '/content/drive/My Drive/Colab Notebooks/'\n",
        "data_klasifikasi = pd.read_csv(path + 'data klasifikasi(2).csv', encoding=\"ISO-8859-1\")\n",
        "\n",
        "# Mengelompokkan data berdasarkan \"Name of Vendor\" dan \"Label Soft Voting\"\n",
        "grouped_data = data_klasifikasi.groupby(['Name of Vendor', 'Label Soft Voting'])['Short Text'].count().reset_index()\n",
        "\n",
        "# Filter data untuk Label Soft Voting 1\n",
        "label_1_data = grouped_data[grouped_data['Label Soft Voting'] == 0]\n",
        "\n",
        "# Menghitung jumlah data per vendor\n",
        "vendor_counts = label_1_data.groupby('Name of Vendor')['Short Text'].sum()\n",
        "\n",
        "# Membuat diagram lingkaran\n",
        "plt.figure(figsize=(8, 8))\n",
        "plt.pie(vendor_counts, labels=vendor_counts.index, autopct='%1.1f%%', startangle=140)\n",
        "plt.axis('equal')  # Agar diagram lingkaran terlihat bulat\n",
        "plt.title('Persentase Label Soft Voting baik sekali per Vendor')\n",
        "plt.show()\n"
      ]
    },
    {
      "cell_type": "code",
      "execution_count": null,
      "metadata": {
        "id": "a-30zV_sP-QC"
      },
      "outputs": [],
      "source": [
        "import pandas as pd\n",
        "import matplotlib.pyplot as plt\n",
        "\n",
        "# Membaca dataset\n",
        "path = '/content/drive/My Drive/Colab Notebooks/'\n",
        "data_klasifikasi = pd.read_csv(path + 'data klasifikasi(2).csv', encoding=\"ISO-8859-1\")\n",
        "\n",
        "# Mengelompokkan data berdasarkan \"Name of Vendor\" dan \"Label Soft Voting\"\n",
        "grouped_data = data_klasifikasi.groupby(['Name of Vendor', 'Label Soft Voting'])['Short Text'].count().reset_index()\n",
        "\n",
        "# Filter data untuk Label Soft Voting 1\n",
        "label_1_data = grouped_data[grouped_data['Label Soft Voting'] == 1]\n",
        "\n",
        "# Menghitung jumlah data per vendor\n",
        "vendor_counts = label_1_data.groupby('Name of Vendor')['Short Text'].sum()\n",
        "\n",
        "# Membuat diagram lingkaran\n",
        "plt.figure(figsize=(8, 8))\n",
        "plt.pie(vendor_counts, labels=vendor_counts.index, autopct='%1.1f%%', startangle=140)\n",
        "plt.axis('equal')  # Agar diagram lingkaran terlihat bulat\n",
        "plt.title('Persentase Label Soft Voting baik per Vendor')\n",
        "plt.show()"
      ]
    },
    {
      "cell_type": "code",
      "execution_count": null,
      "metadata": {
        "id": "VQnedVFVQQ6K"
      },
      "outputs": [],
      "source": [
        "import pandas as pd\n",
        "import matplotlib.pyplot as plt\n",
        "\n",
        "# Membaca dataset\n",
        "path = '/content/drive/My Drive/Colab Notebooks/'\n",
        "data_klasifikasi = pd.read_csv(path + 'data klasifikasi(2).csv', encoding=\"ISO-8859-1\")\n",
        "\n",
        "# Mengelompokkan data berdasarkan \"Name of Vendor\" dan \"Label Soft Voting\"\n",
        "grouped_data = data_klasifikasi.groupby(['Name of Vendor', 'Label Soft Voting'])['Short Text'].count().reset_index()\n",
        "\n",
        "# Filter data untuk Label Soft Voting 1\n",
        "label_1_data = grouped_data[grouped_data['Label Soft Voting'] == 2]\n",
        "\n",
        "# Menghitung jumlah data per vendor\n",
        "vendor_counts = label_1_data.groupby('Name of Vendor')['Short Text'].sum()\n",
        "\n",
        "# Membuat diagram lingkaran\n",
        "plt.figure(figsize=(8, 8))\n",
        "plt.pie(vendor_counts, labels=vendor_counts.index, autopct='%1.1f%%', startangle=140)\n",
        "plt.axis('equal')  # Agar diagram lingkaran terlihat bulat\n",
        "plt.title('Persentase Label Soft Voting cukup per Vendor')\n",
        "plt.show()"
      ]
    },
    {
      "cell_type": "code",
      "execution_count": null,
      "metadata": {
        "id": "eavi_2TpQYZV"
      },
      "outputs": [],
      "source": [
        "import pandas as pd\n",
        "import matplotlib.pyplot as plt\n",
        "\n",
        "# Membaca dataset\n",
        "path = '/content/drive/My Drive/Colab Notebooks/'\n",
        "data_klasifikasi = pd.read_csv(path + 'data klasifikasi(2).csv', encoding=\"ISO-8859-1\")\n",
        "\n",
        "# Mengelompokkan data berdasarkan \"Name of Vendor\" dan \"Label Soft Voting\"\n",
        "grouped_data = data_klasifikasi.groupby(['Name of Vendor', 'Label Soft Voting'])['Short Text'].count().reset_index()\n",
        "\n",
        "# Filter data untuk Label Soft Voting 1\n",
        "label_1_data = grouped_data[grouped_data['Label Soft Voting'] == 3]\n",
        "\n",
        "# Menghitung jumlah data per vendor\n",
        "vendor_counts = label_1_data.groupby('Name of Vendor')['Short Text'].sum()\n",
        "\n",
        "# Membuat diagram lingkaran\n",
        "plt.figure(figsize=(8, 8))\n",
        "plt.pie(vendor_counts, labels=vendor_counts.index, autopct='%1.1f%%', startangle=140)\n",
        "plt.axis('equal')  # Agar diagram lingkaran terlihat bulat\n",
        "plt.title('Persentase Label Soft Voting buruk per Vendor')\n",
        "plt.show()"
      ]
    }
  ],
  "metadata": {
    "colab": {
      "provenance": [],
      "mount_file_id": "1ZMvUtFK4Yxvm6apF1pHWFB-GVrbyiARz",
      "authorship_tag": "ABX9TyMFcyS7gq0uzo0TXygdCTTD",
      "include_colab_link": true
    },
    "kernelspec": {
      "display_name": "Python 3",
      "name": "python3"
    },
    "language_info": {
      "name": "python"
    }
  },
  "nbformat": 4,
  "nbformat_minor": 0
}